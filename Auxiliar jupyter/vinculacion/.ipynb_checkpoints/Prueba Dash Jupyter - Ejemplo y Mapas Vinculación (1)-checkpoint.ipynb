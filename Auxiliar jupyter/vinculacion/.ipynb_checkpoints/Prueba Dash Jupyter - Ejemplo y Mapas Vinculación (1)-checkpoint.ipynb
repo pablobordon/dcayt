{
 "cells": [
  {
   "cell_type": "markdown",
   "id": "e9cbfd0d",
   "metadata": {},
   "source": [
    "## Tutorial Dash y Jupiter"
   ]
  },
  {
   "cell_type": "code",
   "execution_count": null,
   "id": "d80815ab",
   "metadata": {},
   "outputs": [],
   "source": [
    "https://medium.com/plotly/introducing-jupyterdash-811f1f57c02e"
   ]
  },
  {
   "cell_type": "markdown",
   "id": "4e2c9f8f",
   "metadata": {},
   "source": [
    "## Ejemplo para ver que Dash corra bien bajo Jupyter"
   ]
  },
  {
   "cell_type": "code",
   "execution_count": 4,
   "id": "9b8eda03",
   "metadata": {},
   "outputs": [],
   "source": [
    "import plotly.express as px\n",
    "from jupyter_dash import JupyterDash\n",
    "\n",
    "\n",
    "from dash import dcc\n",
    "from dash import html\n",
    "from dash.dependencies import Input, Output"
   ]
  },
  {
   "cell_type": "code",
   "execution_count": 2,
   "id": "044559cf",
   "metadata": {},
   "outputs": [
    {
     "data": {
      "text/html": [
       "\n",
       "        <iframe\n",
       "            width=\"100%\"\n",
       "            height=\"650\"\n",
       "            src=\"http://127.0.0.1:8050/\"\n",
       "            frameborder=\"0\"\n",
       "            allowfullscreen\n",
       "            \n",
       "        ></iframe>\n",
       "        "
      ],
      "text/plain": [
       "<IPython.lib.display.IFrame at 0x7f6204599e80>"
      ]
     },
     "metadata": {},
     "output_type": "display_data"
    }
   ],
   "source": [
    "\n",
    "# Load Data\n",
    "df = px.data.tips()\n",
    "# Build App\n",
    "app = JupyterDash(__name__)\n",
    "app.layout = html.Div([\n",
    "    html.H1(\"JupyterDash Demo\"),\n",
    "    dcc.Graph(id='graph'),\n",
    "    html.Label([\n",
    "        \"colorscale\",\n",
    "        dcc.Dropdown(\n",
    "            id='colorscale-dropdown', clearable=False,\n",
    "            value='plasma', options=[\n",
    "                {'label': c, 'value': c}\n",
    "                for c in px.colors.named_colorscales()\n",
    "            ])\n",
    "    ]),\n",
    "])\n",
    "\n",
    "\n",
    "\n",
    "# Define callback to update graph\n",
    "@app.callback(\n",
    "    Output('graph', 'figure'),\n",
    "    [Input(\"colorscale-dropdown\", \"value\")]\n",
    ")\n",
    "def update_figure(colorscale):\n",
    "    return px.scatter(\n",
    "        df, x=\"total_bill\", y=\"tip\", color=\"size\",\n",
    "        color_continuous_scale=colorscale,\n",
    "        render_mode=\"webgl\", title=\"Tips\"\n",
    "    )\n",
    "# Run app and display result inline in the notebook\n",
    "app.run_server(mode='inline')"
   ]
  },
  {
   "cell_type": "markdown",
   "id": "5fe500a2",
   "metadata": {},
   "source": [
    "## Mapas"
   ]
  },
  {
   "cell_type": "code",
   "execution_count": 5,
   "id": "26dbb262",
   "metadata": {},
   "outputs": [],
   "source": [
    "\n",
    "### mapas\n",
    "\n",
    "\n",
    "import folium\n",
    "from folium import Choropleth, Circle, Marker\n",
    "from folium.plugins import HeatMap, MarkerCluster\n",
    "import pandas as pd\n"
   ]
  },
  {
   "cell_type": "code",
   "execution_count": 7,
   "id": "1722f180",
   "metadata": {},
   "outputs": [
    {
     "data": {
      "text/html": [
       "<div style=\"width:100%;\"><div style=\"position:relative;width:100%;height:0;padding-bottom:60%;\"><span style=\"color:#565656\">Make this Notebook Trusted to load map: File -> Trust Notebook</span><iframe src=\"about:blank\" style=\"position:absolute;width:100%;height:100%;left:0;top:0;border:none !important;\" data-html=%3C%21DOCTYPE%20html%3E%0A%3Chead%3E%20%20%20%20%0A%20%20%20%20%3Cmeta%20http-equiv%3D%22content-type%22%20content%3D%22text/html%3B%20charset%3DUTF-8%22%20/%3E%0A%20%20%20%20%0A%20%20%20%20%20%20%20%20%3Cscript%3E%0A%20%20%20%20%20%20%20%20%20%20%20%20L_NO_TOUCH%20%3D%20false%3B%0A%20%20%20%20%20%20%20%20%20%20%20%20L_DISABLE_3D%20%3D%20false%3B%0A%20%20%20%20%20%20%20%20%3C/script%3E%0A%20%20%20%20%0A%20%20%20%20%3Cstyle%3Ehtml%2C%20body%20%7Bwidth%3A%20100%25%3Bheight%3A%20100%25%3Bmargin%3A%200%3Bpadding%3A%200%3B%7D%3C/style%3E%0A%20%20%20%20%3Cstyle%3E%23map%20%7Bposition%3Aabsolute%3Btop%3A0%3Bbottom%3A0%3Bright%3A0%3Bleft%3A0%3B%7D%3C/style%3E%0A%20%20%20%20%3Cscript%20src%3D%22https%3A//cdn.jsdelivr.net/npm/leaflet%401.6.0/dist/leaflet.js%22%3E%3C/script%3E%0A%20%20%20%20%3Cscript%20src%3D%22https%3A//code.jquery.com/jquery-1.12.4.min.js%22%3E%3C/script%3E%0A%20%20%20%20%3Cscript%20src%3D%22https%3A//maxcdn.bootstrapcdn.com/bootstrap/3.2.0/js/bootstrap.min.js%22%3E%3C/script%3E%0A%20%20%20%20%3Cscript%20src%3D%22https%3A//cdnjs.cloudflare.com/ajax/libs/Leaflet.awesome-markers/2.0.2/leaflet.awesome-markers.js%22%3E%3C/script%3E%0A%20%20%20%20%3Clink%20rel%3D%22stylesheet%22%20href%3D%22https%3A//cdn.jsdelivr.net/npm/leaflet%401.6.0/dist/leaflet.css%22/%3E%0A%20%20%20%20%3Clink%20rel%3D%22stylesheet%22%20href%3D%22https%3A//maxcdn.bootstrapcdn.com/bootstrap/3.2.0/css/bootstrap.min.css%22/%3E%0A%20%20%20%20%3Clink%20rel%3D%22stylesheet%22%20href%3D%22https%3A//maxcdn.bootstrapcdn.com/bootstrap/3.2.0/css/bootstrap-theme.min.css%22/%3E%0A%20%20%20%20%3Clink%20rel%3D%22stylesheet%22%20href%3D%22https%3A//maxcdn.bootstrapcdn.com/font-awesome/4.6.3/css/font-awesome.min.css%22/%3E%0A%20%20%20%20%3Clink%20rel%3D%22stylesheet%22%20href%3D%22https%3A//cdnjs.cloudflare.com/ajax/libs/Leaflet.awesome-markers/2.0.2/leaflet.awesome-markers.css%22/%3E%0A%20%20%20%20%3Clink%20rel%3D%22stylesheet%22%20href%3D%22https%3A//cdn.jsdelivr.net/gh/python-visualization/folium/folium/templates/leaflet.awesome.rotate.min.css%22/%3E%0A%20%20%20%20%0A%20%20%20%20%20%20%20%20%20%20%20%20%3Cmeta%20name%3D%22viewport%22%20content%3D%22width%3Ddevice-width%2C%0A%20%20%20%20%20%20%20%20%20%20%20%20%20%20%20%20initial-scale%3D1.0%2C%20maximum-scale%3D1.0%2C%20user-scalable%3Dno%22%20/%3E%0A%20%20%20%20%20%20%20%20%20%20%20%20%3Cstyle%3E%0A%20%20%20%20%20%20%20%20%20%20%20%20%20%20%20%20%23map_b178befdf25943f585b78ea3d00b8feb%20%7B%0A%20%20%20%20%20%20%20%20%20%20%20%20%20%20%20%20%20%20%20%20position%3A%20relative%3B%0A%20%20%20%20%20%20%20%20%20%20%20%20%20%20%20%20%20%20%20%20width%3A%20100.0%25%3B%0A%20%20%20%20%20%20%20%20%20%20%20%20%20%20%20%20%20%20%20%20height%3A%20100.0%25%3B%0A%20%20%20%20%20%20%20%20%20%20%20%20%20%20%20%20%20%20%20%20left%3A%200.0%25%3B%0A%20%20%20%20%20%20%20%20%20%20%20%20%20%20%20%20%20%20%20%20top%3A%200.0%25%3B%0A%20%20%20%20%20%20%20%20%20%20%20%20%20%20%20%20%7D%0A%20%20%20%20%20%20%20%20%20%20%20%20%3C/style%3E%0A%20%20%20%20%20%20%20%20%0A%3C/head%3E%0A%3Cbody%3E%20%20%20%20%0A%20%20%20%20%0A%20%20%20%20%20%20%20%20%20%20%20%20%3Cdiv%20class%3D%22folium-map%22%20id%3D%22map_b178befdf25943f585b78ea3d00b8feb%22%20%3E%3C/div%3E%0A%20%20%20%20%20%20%20%20%0A%3C/body%3E%0A%3Cscript%3E%20%20%20%20%0A%20%20%20%20%0A%20%20%20%20%20%20%20%20%20%20%20%20var%20map_b178befdf25943f585b78ea3d00b8feb%20%3D%20L.map%28%0A%20%20%20%20%20%20%20%20%20%20%20%20%20%20%20%20%22map_b178befdf25943f585b78ea3d00b8feb%22%2C%0A%20%20%20%20%20%20%20%20%20%20%20%20%20%20%20%20%7B%0A%20%20%20%20%20%20%20%20%20%20%20%20%20%20%20%20%20%20%20%20center%3A%20%5B-34.6506%2C%20-58.7897%5D%2C%0A%20%20%20%20%20%20%20%20%20%20%20%20%20%20%20%20%20%20%20%20crs%3A%20L.CRS.EPSG3857%2C%0A%20%20%20%20%20%20%20%20%20%20%20%20%20%20%20%20%20%20%20%20zoom%3A%2012%2C%0A%20%20%20%20%20%20%20%20%20%20%20%20%20%20%20%20%20%20%20%20zoomControl%3A%20true%2C%0A%20%20%20%20%20%20%20%20%20%20%20%20%20%20%20%20%20%20%20%20preferCanvas%3A%20false%2C%0A%20%20%20%20%20%20%20%20%20%20%20%20%20%20%20%20%7D%0A%20%20%20%20%20%20%20%20%20%20%20%20%29%3B%0A%0A%20%20%20%20%20%20%20%20%20%20%20%20%0A%0A%20%20%20%20%20%20%20%20%0A%20%20%20%20%0A%20%20%20%20%20%20%20%20%20%20%20%20var%20tile_layer_ed51f479b59844eeb82677175ad59e0d%20%3D%20L.tileLayer%28%0A%20%20%20%20%20%20%20%20%20%20%20%20%20%20%20%20%22https%3A//%7Bs%7D.tile.openstreetmap.org/%7Bz%7D/%7Bx%7D/%7By%7D.png%22%2C%0A%20%20%20%20%20%20%20%20%20%20%20%20%20%20%20%20%7B%22attribution%22%3A%20%22Data%20by%20%5Cu0026copy%3B%20%5Cu003ca%20href%3D%5C%22http%3A//openstreetmap.org%5C%22%5Cu003eOpenStreetMap%5Cu003c/a%5Cu003e%2C%20under%20%5Cu003ca%20href%3D%5C%22http%3A//www.openstreetmap.org/copyright%5C%22%5Cu003eODbL%5Cu003c/a%5Cu003e.%22%2C%20%22detectRetina%22%3A%20false%2C%20%22maxNativeZoom%22%3A%2018%2C%20%22maxZoom%22%3A%2018%2C%20%22minZoom%22%3A%200%2C%20%22noWrap%22%3A%20false%2C%20%22opacity%22%3A%201%2C%20%22subdomains%22%3A%20%22abc%22%2C%20%22tms%22%3A%20false%7D%0A%20%20%20%20%20%20%20%20%20%20%20%20%29.addTo%28map_b178befdf25943f585b78ea3d00b8feb%29%3B%0A%20%20%20%20%20%20%20%20%0A%20%20%20%20%0A%20%20%20%20%20%20%20%20%20%20%20%20var%20circle_ddff99e15ba24471a9c75e16ab7447d8%20%3D%20L.circle%28%0A%20%20%20%20%20%20%20%20%20%20%20%20%20%20%20%20%5B-34.65052914312466%2C%20-58.77667018465804%5D%2C%0A%20%20%20%20%20%20%20%20%20%20%20%20%20%20%20%20%7B%22bubblingMouseEvents%22%3A%20true%2C%20%22color%22%3A%20%22%23AE4CCF%22%2C%20%22dashArray%22%3A%20null%2C%20%22dashOffset%22%3A%20null%2C%20%22fill%22%3A%20true%2C%20%22fillColor%22%3A%20%22%23AE4CCF%22%2C%20%22fillOpacity%22%3A%200.6%2C%20%22fillRule%22%3A%20%22evenodd%22%2C%20%22lineCap%22%3A%20%22round%22%2C%20%22lineJoin%22%3A%20%22round%22%2C%20%22opacity%22%3A%201.0%2C%20%22radius%22%3A%20250%2C%20%22stroke%22%3A%20true%2C%20%22weight%22%3A%203%7D%0A%20%20%20%20%20%20%20%20%20%20%20%20%29.addTo%28map_b178befdf25943f585b78ea3d00b8feb%29%3B%0A%20%20%20%20%20%20%20%20%0A%20%20%20%20%0A%20%20%20%20%20%20%20%20var%20popup_80f2ae86f8024acf8bbc7e817b76b283%20%3D%20L.popup%28%7B%22maxWidth%22%3A%20300%7D%29%3B%0A%0A%20%20%20%20%20%20%20%20%0A%20%20%20%20%20%20%20%20%20%20%20%20var%20html_c118d6e4baf0427aab2724fd6b07f9d7%20%3D%20%24%28%60%3Cdiv%20id%3D%22html_c118d6e4baf0427aab2724fd6b07f9d7%22%20style%3D%22width%3A%20100.0%25%3B%20height%3A%20100.0%25%3B%22%3E%3Ch3%3E%20%3Ca%20href%3D%22http%3A//www.unm.edu.ar/%22%3E%20Universidad%20Nacional%20de%20Moreno%20%3C/a%3E%20%3C/h3%3E%3Cbr/%3E%20%20%20%20%20%20%20%20%20%20%20%20%20%20%20%20%20%20%20%20%20%20%3Cbr/%3E%20%20%20%20%20%20%20%20%20%20%20%20%20%20%20%20%20%20%20%20%20%3Cimg%20src%3D%22https%3A//www.w3schools.com/html/pic_trulli.jpg%22%20alt%3D%22Trulli%22%20style%3D%22max-width%3A100%25%3Bmax-height%3A100%25%22%3E%3C/div%3E%60%29%5B0%5D%3B%0A%20%20%20%20%20%20%20%20%20%20%20%20popup_80f2ae86f8024acf8bbc7e817b76b283.setContent%28html_c118d6e4baf0427aab2724fd6b07f9d7%29%3B%0A%20%20%20%20%20%20%20%20%0A%0A%20%20%20%20%20%20%20%20circle_ddff99e15ba24471a9c75e16ab7447d8.bindPopup%28popup_80f2ae86f8024acf8bbc7e817b76b283%29%0A%20%20%20%20%20%20%20%20%3B%0A%0A%20%20%20%20%20%20%20%20%0A%20%20%20%20%0A%20%20%20%20%0A%20%20%20%20%20%20%20%20%20%20%20%20var%20marker_6a15719a69204af18badd284666b96e0%20%3D%20L.marker%28%0A%20%20%20%20%20%20%20%20%20%20%20%20%20%20%20%20%5B-34.65122568627023%2C%20-58.785265671675795%5D%2C%0A%20%20%20%20%20%20%20%20%20%20%20%20%20%20%20%20%7B%7D%0A%20%20%20%20%20%20%20%20%20%20%20%20%29.addTo%28map_b178befdf25943f585b78ea3d00b8feb%29%3B%0A%20%20%20%20%20%20%20%20%0A%20%20%20%20%0A%20%20%20%20%20%20%20%20var%20popup_593b08f42ef14ec0b532ff0beb2bca42%20%3D%20L.popup%28%7B%22maxWidth%22%3A%20%22100%25%22%7D%29%3B%0A%0A%20%20%20%20%20%20%20%20%0A%20%20%20%20%20%20%20%20%20%20%20%20var%20html_9d08a190a1fa4707a59462872d797335%20%3D%20%24%28%60%3Cdiv%20id%3D%22html_9d08a190a1fa4707a59462872d797335%22%20style%3D%22width%3A%20100.0%25%3B%20height%3A%20100.0%25%3B%22%3E%20%20%20%20%20%20%20%20%20%20%20%20%20%20%20%3Ch2%3E%20%3Cb%3E%20Internet%20de%20las%20cosas%20%28IoT%29%20aplicado%20al%20distanciamiento%20social.%20%3C/b%3E%20%3C/h2%3E%20%20%20%20%20%20%20%20%20%20%20%20%20%20%20%20%20%20%20%20%20%20%3Cbr%3E%20%3Cb%3E%20Resumen%20del%20proyecto%3A%20%3C/b%3E%20Desarrollo%20de%20un%20sistema%20de%20informaci%C3%B3n%20que%20mediante%20dispositivos%20de%20IoT%20integrados%20a%20la%20gesti%C3%B3n%20de%20datos%20permite%20el%20monitoreo%20y%20alertas%2C%20de%20distanciamiento%20social%20en%20las%20organizaciones.%20%20%3C/br%3E%20%20%20%20%20%20%20%20%20%20%20%20%20%20%20%20%20%20%20%20%20%20%3Cbr%3E%20%3Cb%3EDirector%3A%20%3C/b%3E%20Gabriel%20Venturino%20%3C/br%3E%20%20%20%20%20%20%20%20%20%20%20%20%20%20%20%20%20%20%20%20%20%3Cbr%3E%20%3Cb%3E%20Contraparte%3A%20%3C/b%3E%20%3Ca%20href%3D%22https%3A//efalcom.com/home/%22%3E%20eFALCOM%20S.A%20%3C/a%3E%20%3Cbr/%3E%20%20%20%20%20%20%20%20%20%20%20%20%20%20%20%20%20%20%20%20%20%3Cbr%3E%20%3Cb%3EFinanciamiento%3A%3C/b%3E%20Programa%20Soluciona.%20Reactivaci%C3%B3n%20de%20la%20Econom%C3%ADa%20del%20Conocimiento.%20Ministerio%20de%20Desarrollo%20productivo.%20%3C/br%3E%20%20%20%20%20%20%20%20%20%20%20%20%20%20%20%20%20%20%20%20%20%3Cbr%3E%20%3Cb%3EUnidad%3A%20%3C/b%3E%20DCAyT%20%3C/br%3E%20%20%20%20%20%20%20%20%20%20%20%20%20%20%20%20%20%20%20%20%20%3Cbr%3E%20%3Cb%3EComienzo%20de%20actividades%3A%20%3C/b%3E%2030/7/2021%20%3C/br%3E%20%20%20%20%20%20%20%20%20%20%20%20%20%20%20%20%20%20%20%20%20%3Cbr%3E%20%3Cb%3EFecha%20de%20finalizaci%C3%B3n%3A%20%3C/b%3E%2031/3/2022%20%3C/br%3E%20%20%20%20%20%20%20%20%20%20%20%20%20%20%20%20%20%20%20%20%20%3Cbr%3E%20%3Cb%3EFondos%20acreditados%3A%20%3C/b%3E%204.990.154%2C60%20%3C/br%3E%20%20%20%20%20%20%20%20%20%20%20%20%20%20%20%20%20%20%20%20%20%3C/div%3E%60%29%5B0%5D%3B%0A%20%20%20%20%20%20%20%20%20%20%20%20popup_593b08f42ef14ec0b532ff0beb2bca42.setContent%28html_9d08a190a1fa4707a59462872d797335%29%3B%0A%20%20%20%20%20%20%20%20%0A%0A%20%20%20%20%20%20%20%20marker_6a15719a69204af18badd284666b96e0.bindPopup%28popup_593b08f42ef14ec0b532ff0beb2bca42%29%0A%20%20%20%20%20%20%20%20%3B%0A%0A%20%20%20%20%20%20%20%20%0A%20%20%20%20%0A%20%20%20%20%0A%20%20%20%20%20%20%20%20%20%20%20%20var%20marker_1c767db58cb34eb8a00473809216b50f%20%3D%20L.marker%28%0A%20%20%20%20%20%20%20%20%20%20%20%20%20%20%20%20%5B-34.63322998447044%2C%20-58.75765492751253%5D%2C%0A%20%20%20%20%20%20%20%20%20%20%20%20%20%20%20%20%7B%7D%0A%20%20%20%20%20%20%20%20%20%20%20%20%29.addTo%28map_b178befdf25943f585b78ea3d00b8feb%29%3B%0A%20%20%20%20%20%20%20%20%0A%20%20%20%20%0A%20%20%20%20%20%20%20%20var%20popup_c1b1c1651b83472dbc5046efebe4aa60%20%3D%20L.popup%28%7B%22maxWidth%22%3A%20%22100%25%22%7D%29%3B%0A%0A%20%20%20%20%20%20%20%20%0A%20%20%20%20%20%20%20%20%20%20%20%20var%20html_47d2496fbef54e33b123e6178e632ef5%20%3D%20%24%28%60%3Cdiv%20id%3D%22html_47d2496fbef54e33b123e6178e632ef5%22%20style%3D%22width%3A%20100.0%25%3B%20height%3A%20100.0%25%3B%22%3E%20%20%20%20%20%20%20%20%20%20%20%20%20%20%20%3Ch2%3E%20%3Cb%3E%20Internet%20de%20las%20cosas%20%28IoT%29%20aplicado%20al%20distanciamiento%20social.%20%3C/b%3E%20%3C/h2%3E%20%20%20%20%20%20%20%20%20%20%20%20%20%20%20%20%20%20%20%20%20%20%3Cbr%3E%20%3Cb%3E%20Resumen%20del%20proyecto%3A%20%3C/b%3E%20Desarrollo%20de%20un%20sistema%20de%20informaci%C3%B3n%20que%20mediante%20dispositivos%20de%20IoT%20integrados%20a%20la%20gesti%C3%B3n%20de%20datos%20permite%20el%20monitoreo%20y%20alertas%2C%20de%20distanciamiento%20social%20en%20las%20organizaciones.%20%20%3C/br%3E%20%20%20%20%20%20%20%20%20%20%20%20%20%20%20%20%20%20%20%20%20%20%3Cbr%3E%20%3Cb%3EDirector%3A%20%3C/b%3E%20Gabriel%20Venturino%20%3C/br%3E%20%20%20%20%20%20%20%20%20%20%20%20%20%20%20%20%20%20%20%20%20%3Cbr%3E%20%3Cb%3E%20Contraparte%3A%20%3C/b%3E%20%3Ca%20href%3D%22http%3A//www.argenpur.com.ar/%22%3E%20Argenpur%20S.A%20%3C/a%3E%20%3Cbr/%3E%20%20%20%20%20%20%20%20%20%20%20%20%20%20%20%20%20%20%20%20%20%3Cbr%3E%20%3Cb%3EFinanciamiento%3A%3C/b%3E%20Programa%20Soluciona.%20Reactivaci%C3%B3n%20de%20la%20Econom%C3%ADa%20del%20Conocimiento.%20Ministerio%20de%20Desarrollo%20productivo.%20%3C/br%3E%20%20%20%20%20%20%20%20%20%20%20%20%20%20%20%20%20%20%20%20%20%3Cbr%3E%20%3Cb%3EUnidad%3A%20%3C/b%3E%20DCAyT%20%3C/br%3E%20%20%20%20%20%20%20%20%20%20%20%20%20%20%20%20%20%20%20%20%20%3Cbr%3E%20%3Cb%3EComienzo%20de%20actividades%3A%20%3C/b%3E%2030/7/2021%20%3C/br%3E%20%20%20%20%20%20%20%20%20%20%20%20%20%20%20%20%20%20%20%20%20%3Cbr%3E%20%3Cb%3EFecha%20de%20finalizaci%C3%B3n%3A%20%3C/b%3E%2031/3/2022%20%3C/br%3E%20%20%20%20%20%20%20%20%20%20%20%20%20%20%20%20%20%20%20%20%20%3Cbr%3E%20%3Cb%3EFondos%20acreditados%3A%20%3C/b%3E%204.990.154%2C60%20%3C/br%3E%20%20%20%20%20%20%20%20%20%20%20%20%20%20%20%20%20%20%20%20%20%3C/div%3E%60%29%5B0%5D%3B%0A%20%20%20%20%20%20%20%20%20%20%20%20popup_c1b1c1651b83472dbc5046efebe4aa60.setContent%28html_47d2496fbef54e33b123e6178e632ef5%29%3B%0A%20%20%20%20%20%20%20%20%0A%0A%20%20%20%20%20%20%20%20marker_1c767db58cb34eb8a00473809216b50f.bindPopup%28popup_c1b1c1651b83472dbc5046efebe4aa60%29%0A%20%20%20%20%20%20%20%20%3B%0A%0A%20%20%20%20%20%20%20%20%0A%20%20%20%20%0A%20%20%20%20%0A%20%20%20%20%20%20%20%20%20%20%20%20var%20marker_94b209ec55234070a03c3430d2790463%20%3D%20L.marker%28%0A%20%20%20%20%20%20%20%20%20%20%20%20%20%20%20%20%5B-34.65673560168275%2C%20-58.76826048516911%5D%2C%0A%20%20%20%20%20%20%20%20%20%20%20%20%20%20%20%20%7B%7D%0A%20%20%20%20%20%20%20%20%20%20%20%20%29.addTo%28map_b178befdf25943f585b78ea3d00b8feb%29%3B%0A%20%20%20%20%20%20%20%20%0A%20%20%20%20%0A%20%20%20%20%20%20%20%20var%20popup_f8b1818f041b438394072fe1dd49b3f2%20%3D%20L.popup%28%7B%22maxWidth%22%3A%20%22100%25%22%7D%29%3B%0A%0A%20%20%20%20%20%20%20%20%0A%20%20%20%20%20%20%20%20%20%20%20%20var%20html_36278512f9014455a8eb17b32cf861a7%20%3D%20%24%28%60%3Cdiv%20id%3D%22html_36278512f9014455a8eb17b32cf861a7%22%20style%3D%22width%3A%20100.0%25%3B%20height%3A%20100.0%25%3B%22%3E%20%20%20%20%20%20%20%20%20%20%20%20%20%20%20%3Ch2%3E%20%3Cb%3E%20Internet%20de%20las%20cosas%20%28IoT%29%20aplicado%20al%20distanciamiento%20social.%20%3C/b%3E%20%3C/h2%3E%20%20%20%20%20%20%20%20%20%20%20%20%20%20%20%20%20%20%20%20%20%20%3Cbr%3E%20%3Cb%3E%20Resumen%20del%20proyecto%3A%20%3C/b%3E%20Desarrollo%20de%20un%20sistema%20de%20informaci%C3%B3n%20que%20mediante%20dispositivos%20de%20IoT%20integrados%20a%20la%20gesti%C3%B3n%20de%20datos%20permite%20el%20monitoreo%20y%20alertas%2C%20de%20distanciamiento%20social%20en%20las%20organizaciones.%20%20%3C/br%3E%20%20%20%20%20%20%20%20%20%20%20%20%20%20%20%20%20%20%20%20%20%20%3Cbr%3E%20%3Cb%3EDirector%3A%20%3C/b%3E%20Gabriel%20Venturino%20%3C/br%3E%20%20%20%20%20%20%20%20%20%20%20%20%20%20%20%20%20%20%20%20%20%3Cbr%3E%20%3Cb%3E%20Contraparte%3A%20%3C/b%3E%20%3Ca%20href%3D%22https%3A//scaltersrl.com.ar/%22%3EScalter%20S.R.L%20%3C/a%3E%20%3Cbr/%3E%20%20%20%20%20%20%20%20%20%20%20%20%20%20%20%20%20%20%20%20%20%3Cbr%3E%20%3Cb%3EFinanciamiento%3A%3C/b%3E%20Programa%20Soluciona.%20Reactivaci%C3%B3n%20de%20la%20Econom%C3%ADa%20del%20Conocimiento.%20Ministerio%20de%20Desarrollo%20productivo.%20%3C/br%3E%20%20%20%20%20%20%20%20%20%20%20%20%20%20%20%20%20%20%20%20%20%3Cbr%3E%20%3Cb%3EUnidad%3A%20%3C/b%3E%20DCAyT%20%3C/br%3E%20%20%20%20%20%20%20%20%20%20%20%20%20%20%20%20%20%20%20%20%20%3Cbr%3E%20%3Cb%3EComienzo%20de%20actividades%3A%20%3C/b%3E%2030/7/2021%20%3C/br%3E%20%20%20%20%20%20%20%20%20%20%20%20%20%20%20%20%20%20%20%20%20%3Cbr%3E%20%3Cb%3EFecha%20de%20finalizaci%C3%B3n%3A%20%3C/b%3E%2031/3/2022%20%3C/br%3E%20%20%20%20%20%20%20%20%20%20%20%20%20%20%20%20%20%20%20%20%20%3Cbr%3E%20%3Cb%3EFondos%20acreditados%3A%20%3C/b%3E%204.990.154%2C60%20%3C/br%3E%20%20%20%20%20%20%20%20%20%20%20%20%20%20%20%20%20%20%20%20%20%3C/div%3E%60%29%5B0%5D%3B%0A%20%20%20%20%20%20%20%20%20%20%20%20popup_f8b1818f041b438394072fe1dd49b3f2.setContent%28html_36278512f9014455a8eb17b32cf861a7%29%3B%0A%20%20%20%20%20%20%20%20%0A%0A%20%20%20%20%20%20%20%20marker_94b209ec55234070a03c3430d2790463.bindPopup%28popup_f8b1818f041b438394072fe1dd49b3f2%29%0A%20%20%20%20%20%20%20%20%3B%0A%0A%20%20%20%20%20%20%20%20%0A%20%20%20%20%0A%20%20%20%20%0A%20%20%20%20%20%20%20%20%20%20%20%20var%20marker_8e8cd5ca17cd4325a75e1c892ccc8e72%20%3D%20L.marker%28%0A%20%20%20%20%20%20%20%20%20%20%20%20%20%20%20%20%5B-34.54570035075286%2C%20-58.513172085374926%5D%2C%0A%20%20%20%20%20%20%20%20%20%20%20%20%20%20%20%20%7B%7D%0A%20%20%20%20%20%20%20%20%20%20%20%20%29.addTo%28map_b178befdf25943f585b78ea3d00b8feb%29%3B%0A%20%20%20%20%20%20%20%20%0A%20%20%20%20%0A%20%20%20%20%20%20%20%20var%20popup_b0e62e9fe2b44962856be9941a817d4c%20%3D%20L.popup%28%7B%22maxWidth%22%3A%20%22100%25%22%7D%29%3B%0A%0A%20%20%20%20%20%20%20%20%0A%20%20%20%20%20%20%20%20%20%20%20%20var%20html_bdcf296ecebf4ccaafb8d0d22bb938e6%20%3D%20%24%28%60%3Cdiv%20id%3D%22html_bdcf296ecebf4ccaafb8d0d22bb938e6%22%20style%3D%22width%3A%20100.0%25%3B%20height%3A%20100.0%25%3B%22%3E%20%20%20%20%20%20%20%20%20%20%20%20%20%20%20%3Ch2%3E%20%3Cb%3E%20Proyecto%20de%20servicio%20de%20informe%20ambiental%20para%20nuevas%20tecnolog%C3%ADas%20%3C/b%3E%20%3C/h2%3E%20%20%20%20%20%20%20%20%20%20%20%20%20%20%20%20%20%20%20%20%20%20%3Cbr%3E%20%3Cb%3E%20Resumen%20del%20proyecto%3A%20%3C/b%3E%20-%3C/br%3E%20%20%20%20%20%20%20%20%20%20%20%20%20%20%20%20%20%20%20%20%20%20%3Cbr%3E%20%3Cb%3EDirector%3A%20%3C/b%3E%20Marina%20Abruzzini%20%3C/br%3E%20%20%20%20%20%20%20%20%20%20%20%20%20%20%20%20%20%20%20%20%20%3Cbr%3E%20%3Cb%3E%20Contraparte%3A%20%3C/b%3E%20%3Ca%20href%3D%22https%3A//lihue.com.ar/%22%3E%20Lihu%C3%A9%20Ingenier%C3%ADa%20S.A%20%3C/a%3E%20%3Cbr/%3E%20%20%20%20%20%20%20%20%20%20%20%20%20%20%20%20%20%20%20%20%20%3Cbr%3E%20%3Cb%3EFinanciamiento%3A%3C/b%3E%20Lihu%C3%A9%20Ingenier%C3%ADa%20S.A.%20%3C/br%3E%20%20%20%20%20%20%20%20%20%20%20%20%20%20%20%20%20%20%20%20%20%3Cbr%3E%20%3Cb%3EUnidad%3A%20%3C/b%3E%20DCAyT%20%3C/br%3E%20%20%20%20%20%20%20%20%20%20%20%20%20%20%20%20%20%20%20%20%20%3Cbr%3E%20%3Cb%3EComienzo%20de%20actividades%3A%20%3C/b%3E%20-%20%3C/br%3E%20%20%20%20%20%20%20%20%20%20%20%20%20%20%20%20%20%20%20%20%20%3Cbr%3E%20%3Cb%3EFecha%20de%20finalizaci%C3%B3n%3A%20%3C/b%3E%20-%20%3C/br%3E%20%20%20%20%20%20%20%20%20%20%20%20%20%20%20%20%20%20%20%20%20%3Cbr%3E%20%3Cb%3EFondos%20acreditados%3A%20%3C/b%3E%2040.000%2C00%20%3C/br%3E%20%20%20%20%20%20%20%20%20%20%20%20%20%20%20%20%20%20%20%20%20%3C/div%3E%60%29%5B0%5D%3B%0A%20%20%20%20%20%20%20%20%20%20%20%20popup_b0e62e9fe2b44962856be9941a817d4c.setContent%28html_bdcf296ecebf4ccaafb8d0d22bb938e6%29%3B%0A%20%20%20%20%20%20%20%20%0A%0A%20%20%20%20%20%20%20%20marker_8e8cd5ca17cd4325a75e1c892ccc8e72.bindPopup%28popup_b0e62e9fe2b44962856be9941a817d4c%29%0A%20%20%20%20%20%20%20%20%3B%0A%0A%20%20%20%20%20%20%20%20%0A%20%20%20%20%0A%20%20%20%20%0A%20%20%20%20%20%20%20%20%20%20%20%20var%20marker_8cbbd1fcde094d399dd06afd48cc1719%20%3D%20L.marker%28%0A%20%20%20%20%20%20%20%20%20%20%20%20%20%20%20%20%5B-34.59754461260412%2C%20-58.37062716613194%5D%2C%0A%20%20%20%20%20%20%20%20%20%20%20%20%20%20%20%20%7B%7D%0A%20%20%20%20%20%20%20%20%20%20%20%20%29.addTo%28map_b178befdf25943f585b78ea3d00b8feb%29%3B%0A%20%20%20%20%20%20%20%20%0A%20%20%20%20%0A%20%20%20%20%20%20%20%20var%20popup_bd74b416a15b49798c3bcff7792c4343%20%3D%20L.popup%28%7B%22maxWidth%22%3A%20%22100%25%22%7D%29%3B%0A%0A%20%20%20%20%20%20%20%20%0A%20%20%20%20%20%20%20%20%20%20%20%20var%20html_9da36ff5754548b184217c180ff62574%20%3D%20%24%28%60%3Cdiv%20id%3D%22html_9da36ff5754548b184217c180ff62574%22%20style%3D%22width%3A%20100.0%25%3B%20height%3A%20100.0%25%3B%22%3E%20%20%20%20%20%20%20%20%20%20%20%20%20%20%20%3Ch2%3E%20%3Cb%3E%20Dictamen%20t%C3%A9cnico%20de%20Impacto%20en%20la%20econom%C3%ADa%20real.%20%3C/b%3E%20%3C/h2%3E%20%20%20%20%20%20%20%20%20%20%20%20%20%20%20%20%20%20%20%20%20%20%3Cbr%3E%20%3Cb%3E%20Resumen%20del%20proyecto%3A%3C/b%3E%20Cuenta%20con%20compromiso%20de%20confidencialidad%20%3C/br%3E%20%20%20%20%20%20%20%20%20%20%20%20%20%20%20%20%20%20%20%20%20%20%3Cbr%3E%20%3Cb%3EDirector%3A%20%3C/b%3E%20Walter%20Klein%20%3C/br%3E%20%20%20%20%20%20%20%20%20%20%20%20%20%20%20%20%20%20%20%20%20%3Cbr%3E%20%3Cb%3E%20Contraparte%3A%20%3C/b%3E%20%3Ca%20href%3D%22https%3A//lihue.com.ar/%22%3E%20Generaci%C3%B3n%20Mediterranea%20S.A%20%3C/a%3E%20%3Cbr/%3E%20%20%20%20%20%20%20%20%20%20%20%20%20%20%20%20%20%20%20%20%20%3Cbr%3E%20%3Cb%3EFinanciamiento%3A%3C/b%3E%20Generaci%C3%B3n%20Mediterranea%20S.A.%20%3C/br%3E%20%20%20%20%20%20%20%20%20%20%20%20%20%20%20%20%20%20%20%20%20%3Cbr%3E%20%3Cb%3EUnidad%3A%20%3C/b%3E%20-%20%3C/br%3E%20%20%20%20%20%20%20%20%20%20%20%20%20%20%20%20%20%20%20%20%20%3Cbr%3E%20%3Cb%3EComienzo%20de%20actividades%3A%20%3C/b%3E%2016/5/2021%20%3C/br%3E%20%20%20%20%20%20%20%20%20%20%20%20%20%20%20%20%20%20%20%20%20%3Cbr%3E%20%3Cb%3EFecha%20de%20finalizaci%C3%B3n%3A%20%3C/b%3E%2016/7/2021%20%3C/br%3E%20%20%20%20%20%20%20%20%20%20%20%20%20%20%20%20%20%20%20%20%20%3Cbr%3E%20%3Cb%3EFondos%20acreditados%3A%20%3C/b%3E%202.500.000%2C00%20%3C/br%3E%20%20%20%20%20%20%20%20%20%20%20%20%20%20%20%20%20%20%20%20%20%3C/div%3E%60%29%5B0%5D%3B%0A%20%20%20%20%20%20%20%20%20%20%20%20popup_bd74b416a15b49798c3bcff7792c4343.setContent%28html_9da36ff5754548b184217c180ff62574%29%3B%0A%20%20%20%20%20%20%20%20%0A%0A%20%20%20%20%20%20%20%20marker_8cbbd1fcde094d399dd06afd48cc1719.bindPopup%28popup_bd74b416a15b49798c3bcff7792c4343%29%0A%20%20%20%20%20%20%20%20%3B%0A%0A%20%20%20%20%20%20%20%20%0A%20%20%20%20%0A%20%20%20%20%0A%20%20%20%20%20%20%20%20%20%20%20%20var%20marker_2b4cbf495f0b42079bf42aa0f35cff09%20%3D%20L.marker%28%0A%20%20%20%20%20%20%20%20%20%20%20%20%20%20%20%20%5B-34.76790068944727%2C%20-58.83849554839575%5D%2C%0A%20%20%20%20%20%20%20%20%20%20%20%20%20%20%20%20%7B%7D%0A%20%20%20%20%20%20%20%20%20%20%20%20%29.addTo%28map_b178befdf25943f585b78ea3d00b8feb%29%3B%0A%20%20%20%20%20%20%20%20%0A%20%20%20%20%0A%20%20%20%20%20%20%20%20%20%20%20%20var%20icon_52c54caf7e8e44b2b32a8d51807026f8%20%3D%20L.AwesomeMarkers.icon%28%0A%20%20%20%20%20%20%20%20%20%20%20%20%20%20%20%20%7B%22extraClasses%22%3A%20%22fa-rotate-0%22%2C%20%22icon%22%3A%20%22info-sign%22%2C%20%22iconColor%22%3A%20%22white%22%2C%20%22markerColor%22%3A%20%22green%22%2C%20%22prefix%22%3A%20%22glyphicon%22%7D%0A%20%20%20%20%20%20%20%20%20%20%20%20%29%3B%0A%20%20%20%20%20%20%20%20%20%20%20%20marker_2b4cbf495f0b42079bf42aa0f35cff09.setIcon%28icon_52c54caf7e8e44b2b32a8d51807026f8%29%3B%0A%20%20%20%20%20%20%20%20%0A%20%20%20%20%0A%20%20%20%20%20%20%20%20var%20popup_0e49ce85fb9a432f986ef6f3d2f2412d%20%3D%20L.popup%28%7B%22maxWidth%22%3A%20%22100%25%22%7D%29%3B%0A%0A%20%20%20%20%20%20%20%20%0A%20%20%20%20%20%20%20%20%20%20%20%20var%20html_bdecd850f5e649349ba1fda1cb97b00c%20%3D%20%24%28%60%3Cdiv%20id%3D%22html_bdecd850f5e649349ba1fda1cb97b00c%22%20style%3D%22width%3A%20100.0%25%3B%20height%3A%20100.0%25%3B%22%3ECoop.%20de%20trabajo%20MasterCheese%20Ltda%3C/div%3E%60%29%5B0%5D%3B%0A%20%20%20%20%20%20%20%20%20%20%20%20popup_0e49ce85fb9a432f986ef6f3d2f2412d.setContent%28html_bdecd850f5e649349ba1fda1cb97b00c%29%3B%0A%20%20%20%20%20%20%20%20%0A%0A%20%20%20%20%20%20%20%20marker_2b4cbf495f0b42079bf42aa0f35cff09.bindPopup%28popup_0e49ce85fb9a432f986ef6f3d2f2412d%29%0A%20%20%20%20%20%20%20%20%3B%0A%0A%20%20%20%20%20%20%20%20%0A%20%20%20%20%0A%20%20%20%20%0A%20%20%20%20%20%20%20%20%20%20%20%20var%20marker_ee71f63a65bb4664a1bfafc8176cfe7d%20%3D%20L.marker%28%0A%20%20%20%20%20%20%20%20%20%20%20%20%20%20%20%20%5B-34.74064737333929%2C%20-58.32448233876158%5D%2C%0A%20%20%20%20%20%20%20%20%20%20%20%20%20%20%20%20%7B%7D%0A%20%20%20%20%20%20%20%20%20%20%20%20%29.addTo%28map_b178befdf25943f585b78ea3d00b8feb%29%3B%0A%20%20%20%20%20%20%20%20%0A%20%20%20%20%0A%20%20%20%20%20%20%20%20var%20popup_e7d9dc339da6474f89a52bd93d71f114%20%3D%20L.popup%28%7B%22maxWidth%22%3A%20%22100%25%22%7D%29%3B%0A%0A%20%20%20%20%20%20%20%20%0A%20%20%20%20%20%20%20%20%20%20%20%20var%20html_5f12ee46642e439d8fdc399f43099f53%20%3D%20%24%28%60%3Cdiv%20id%3D%22html_5f12ee46642e439d8fdc399f43099f53%22%20style%3D%22width%3A%20100.0%25%3B%20height%3A%20100.0%25%3B%22%3E%20%20%20%20%20%20%20%20%20%20%20%20%20%20%20%3Ch2%3E%20%3Cb%3E%20Estudio%20y%20asistencia%20t%C3%A9cnica%20para%20el%20reemplazo%20del%20lat%C3%B3n%20de%20forja%20por%20el%20aluminio%20%20%3C/b%3E%20%3C/h2%3E%20%20%20%20%20%20%20%20%20%20%20%20%20%20%20%20%20%20%20%20%20%20%3Cbr%3E%20%3Cb%3E%20Resumen%20del%20proyecto%3A%20%3C/b%3E%20Consiste%20en%20la%20prueba%20y%20ensayos%20de%20diferentes%20aleaciones%20de%20aluminio%20en%20la%20b%C3%BAsqueda%20de%20optimizar%20el%20proceso%20de%20fundido%2C%20inyecci%C3%B3n%20%20y%20mecanizado%20para%20la%20elaboraci%C3%B3n%20de%20v%C3%A1lvulas%20de%20gas%20usadas%20para%20cocinas%2C%20termotanques%20y%20estufas%2C%20en%20reemplazo%20del%20%20lat%C3%B3n%20forjado.%20Esto%20permitir%C3%A1%20abastecer%20el%20mercado%20interno%20y%20de%20la%20regi%C3%B3n.%3C/br%3E%20%20%20%20%20%20%20%20%20%20%20%20%20%20%20%20%20%20%20%20%20%20%3Cbr%3E%20%3Cb%3EDirector%3A%20%3C/b%3E%20Gabriel%20Venturino%20%3C/br%3E%20%20%20%20%20%20%20%20%20%20%20%20%20%20%20%20%20%20%20%20%20%3Cbr%3E%20%3Cb%3E%20Contraparte%3A%20%3C/b%3E%20%3Ca%20href%3D%22https%3A//www.facebook.com/CooperativaEitec/%22%3E%20Coop.%20de%20trabajo%20EITEC%20Ltda%20%3C/a%3E%20%3Cbr/%3E%20%20%20%20%20%20%20%20%20%20%20%20%20%20%20%20%20%20%20%20%20%3Cbr%3E%20%3Cb%3EFinanciamiento%3A%3C/b%3E%20Convocatoria%202021%20para%20Emprendedores/as%20de%20Base%20Cient%C3%ADfica%20y/o%20tecnol%C3%B3gica%20en%20Desarrollos%20con%20Impacto%20Social%20-%20Provincia%20de%20Buenos%20Aires.%20Convocatoria%20NETS.%20MINCyT%20%3C/br%3E%20%20%20%20%20%20%20%20%20%20%20%20%20%20%20%20%20%20%20%20%20%3Cbr%3E%20%3Cb%3EUnidad%3A%20%3C/b%3E%20DCAyT%20%3C/br%3E%20%20%20%20%20%20%20%20%20%20%20%20%20%20%20%20%20%20%20%20%20%3Cbr%3E%20%3Cb%3EComienzo%20de%20actividades%3A%20%3C/b%3E%20-%20%3C/br%3E%20%20%20%20%20%20%20%20%20%20%20%20%20%20%20%20%20%20%20%20%20%3Cbr%3E%20%3Cb%3EFecha%20de%20finalizaci%C3%B3n%3A%20%3C/b%3E%20-%20%3C/br%3E%20%20%20%20%20%20%20%20%20%20%20%20%20%20%20%20%20%20%20%20%20%3Cbr%3E%20%3Cb%3EFondos%20acreditados%3A%20%3C/b%3E%201.500.000%2C00%20%3C/br%3E%20%20%20%20%20%20%20%20%20%20%20%20%20%20%20%20%20%20%20%20%20%3C/div%3E%60%29%5B0%5D%3B%0A%20%20%20%20%20%20%20%20%20%20%20%20popup_e7d9dc339da6474f89a52bd93d71f114.setContent%28html_5f12ee46642e439d8fdc399f43099f53%29%3B%0A%20%20%20%20%20%20%20%20%0A%0A%20%20%20%20%20%20%20%20marker_ee71f63a65bb4664a1bfafc8176cfe7d.bindPopup%28popup_e7d9dc339da6474f89a52bd93d71f114%29%0A%20%20%20%20%20%20%20%20%3B%0A%0A%20%20%20%20%20%20%20%20%0A%20%20%20%20%0A%20%20%20%20%0A%20%20%20%20%20%20%20%20%20%20%20%20var%20marker_f8635587842c466dab1ec58480315f60%20%3D%20L.marker%28%0A%20%20%20%20%20%20%20%20%20%20%20%20%20%20%20%20%5B-34.691662819291466%2C%20-58.532946731986144%5D%2C%0A%20%20%20%20%20%20%20%20%20%20%20%20%20%20%20%20%7B%7D%0A%20%20%20%20%20%20%20%20%20%20%20%20%29.addTo%28map_b178befdf25943f585b78ea3d00b8feb%29%3B%0A%20%20%20%20%20%20%20%20%0A%20%20%20%20%0A%20%20%20%20%20%20%20%20var%20popup_28bbac87bb6146a2b27e4782b4541157%20%3D%20L.popup%28%7B%22maxWidth%22%3A%20%22100%25%22%7D%29%3B%0A%0A%20%20%20%20%20%20%20%20%0A%20%20%20%20%20%20%20%20%20%20%20%20var%20html_cce3237e1ee0489da963707a9410e1f5%20%3D%20%24%28%60%3Cdiv%20id%3D%22html_cce3237e1ee0489da963707a9410e1f5%22%20style%3D%22width%3A%20100.0%25%3B%20height%3A%20100.0%25%3B%22%3E%20%20%20%20%20%20%20%20%20%20%20%20%20%20%20%3Ch2%3E%20%3Cb%3E%20Co-dise%C3%B1o%20de%20componente%20electr%C3%B3nico%20para%20el%20control%20de%20la%20producci%C3%B3n%20o%20PLC.%20%3C/b%3E%20%3C/h2%3E%20%20%20%20%20%20%20%20%20%20%20%20%20%20%20%20%20%20%20%20%20%20%3Cbr%3E%20%3Cb%3E%20Resumen%20del%20proyecto%3A%20%3C/b%3E%20Co-dise%C3%B1o%20de%20componente%20electr%C3%B3nico%20para%20el%20control%20de%20la%20producci%C3%B3n%20o%20PLC%2C%20destinado%20a%20una%20m%C3%A1quina%20semi%20autom%C3%A1tica%20confeccionadora%20de%20bolsas%20de%20polietileno.%3C/br%3E%20%20%20%20%20%20%20%20%20%20%20%20%20%20%20%20%20%20%20%20%20%20%3Cbr%3E%20%3Cb%3EDirector%3A%20%3C/b%3E%20Gabriel%20Venturino%20%3C/br%3E%20%20%20%20%20%20%20%20%20%20%20%20%20%20%20%20%20%20%20%20%20%3Cbr%3E%20%3Cb%3E%20Contraparte%3A%20%3C/b%3E%20%3Ca%20href%3D%22https%3A//www.facebook.com/CooperativaEitec/%22%3E%20Coop.%20de%20Trabajo%20Reciclando%20Sue%C3%B1os%20Ltda%20%3C/a%3E%20%3Cbr/%3E%20%20%20%20%20%20%20%20%20%20%20%20%20%20%20%20%20%20%20%20%20%3Cbr%3E%20%3Cb%3EFinanciamiento%3A%3C/b%3E%20Convocatoria%20Transformaci%C3%B3n%20Digital%20Bonaerense.%20Ministerio%20de%20Producci%C3%B3n%2C%20Ciencia%20e%20Innovaci%C3%B3n%20Tecnol%C3%B3gica.%20PBA%20%3C/br%3E%20%20%20%20%20%20%20%20%20%20%20%20%20%20%20%20%20%20%20%20%20%3Cbr%3E%20%3Cb%3EUnidad%3A%20%3C/b%3E%20DCAyT%20%3C/br%3E%20%20%20%20%20%20%20%20%20%20%20%20%20%20%20%20%20%20%20%20%20%3Cbr%3E%20%3Cb%3EComienzo%20de%20actividades%3A%20%3C/b%3E%20-%20%3C/br%3E%20%20%20%20%20%20%20%20%20%20%20%20%20%20%20%20%20%20%20%20%20%3Cbr%3E%20%3Cb%3EFecha%20de%20finalizaci%C3%B3n%3A%20%3C/b%3E%20-%20%3C/br%3E%20%20%20%20%20%20%20%20%20%20%20%20%20%20%20%20%20%20%20%20%20%3Cbr%3E%20%3Cb%3EFondos%20acreditados%3A%20%3C/b%3E%201.500.000%2C00%20%3C/br%3E%20%20%20%20%20%20%20%20%20%20%20%20%20%20%20%20%20%20%20%20%20%3C/div%3E%60%29%5B0%5D%3B%0A%20%20%20%20%20%20%20%20%20%20%20%20popup_28bbac87bb6146a2b27e4782b4541157.setContent%28html_cce3237e1ee0489da963707a9410e1f5%29%3B%0A%20%20%20%20%20%20%20%20%0A%0A%20%20%20%20%20%20%20%20marker_f8635587842c466dab1ec58480315f60.bindPopup%28popup_28bbac87bb6146a2b27e4782b4541157%29%0A%20%20%20%20%20%20%20%20%3B%0A%0A%20%20%20%20%20%20%20%20%0A%20%20%20%20%0A%20%20%20%20%0A%20%20%20%20%20%20%20%20%20%20%20%20var%20marker_6f780fe4c22249de8984d1de2c39d53a%20%3D%20L.marker%28%0A%20%20%20%20%20%20%20%20%20%20%20%20%20%20%20%20%5B-34.67752211513004%2C%20-58.54196662283064%5D%2C%0A%20%20%20%20%20%20%20%20%20%20%20%20%20%20%20%20%7B%7D%0A%20%20%20%20%20%20%20%20%20%20%20%20%29.addTo%28map_b178befdf25943f585b78ea3d00b8feb%29%3B%0A%20%20%20%20%20%20%20%20%0A%20%20%20%20%0A%20%20%20%20%20%20%20%20var%20popup_de14f96543da48be9468b7ebebc3c96d%20%3D%20L.popup%28%7B%22maxWidth%22%3A%20%22100%25%22%7D%29%3B%0A%0A%20%20%20%20%20%20%20%20%0A%20%20%20%20%20%20%20%20%20%20%20%20var%20html_a2b7ec87a18e4f8caf1260054e483dec%20%3D%20%24%28%60%3Cdiv%20id%3D%22html_a2b7ec87a18e4f8caf1260054e483dec%22%20style%3D%22width%3A%20100.0%25%3B%20height%3A%20100.0%25%3B%22%3E%20%20%20%20%20%20%20%20%20%20%20%20%20%20%20%3Ch2%3E%20%3Cb%3E%20La%20cooperativa%20de%20Trabajo%20Dignidad%20Laboral%20Ltda%20como%20%22refuncionalizador%22%20de%20Residuos%20de%20Aparatos%20El%C3%A9ctricos%20y%20Electr%C3%B3nicos.%20%3C/b%3E%20%3C/h2%3E%20%20%20%20%20%20%20%20%20%20%20%20%20%20%20%20%20%20%20%20%20%20%3Cbr%3E%20%3Cb%3E%20Resumen%20del%20proyecto%3A%20%3C/b%3E%20-%20%3C/br%3E%20%20%20%20%20%20%20%20%20%20%20%20%20%20%20%20%20%20%20%20%20%20%3Cbr%3E%20%3Cb%3EDirector%3A%20%3C/b%3E%20Stella%20Maris%20Bonaventura%20%3C/br%3E%20%20%20%20%20%20%20%20%20%20%20%20%20%20%20%20%20%20%20%20%20%3Cbr%3E%20%3Cb%3E%20Contraparte%3A%20%3C/b%3E%20%3Ca%20href%3D%22https%3A//www.facebook.com/CooperativaEitec/%22%3E%20Coop.%20de%20trabajo%20Dignidad%20Laboral%20Ltda%20%3C/a%3E%20%3Cbr/%3E%20%20%20%20%20%20%20%20%20%20%20%20%20%20%20%20%20%20%20%20%20%3Cbr%3E%20%3Cb%3EFinanciamiento%3A%3C/b%3E%20Convocatoriade%20Proyectos%20de%20Tecnolog%C3%ADas%20para%20la%20inclusi%C3%B3n%20social%20%28PTIS%29%20-%20a%C3%B1o%202021%2C%20del%20MINCYT%20a%20trav%C3%A9s%20del%20Programa%20Nacional%20de%20Tecnolog%C3%ADa%20e%20Innovaci%C3%B3n%20Social%2C%20bajo%20la%20%C3%B3rbita%20de%20la%20SSPCTI%2C%20dependiente%20del%20SPPCTEI%20%3C/br%3E%20%20%20%20%20%20%20%20%20%20%20%20%20%20%20%20%20%20%20%20%20%3Cbr%3E%20%3Cb%3EUnidad%3A%20%3C/b%3E%20DCAyT%20%3C/br%3E%20%20%20%20%20%20%20%20%20%20%20%20%20%20%20%20%20%20%20%20%20%3Cbr%3E%20%3Cb%3EComienzo%20de%20actividades%3A%20%3C/b%3E%20-%20%3C/br%3E%20%20%20%20%20%20%20%20%20%20%20%20%20%20%20%20%20%20%20%20%20%3Cbr%3E%20%3Cb%3EFecha%20de%20finalizaci%C3%B3n%3A%20%3C/b%3E%20-%20%3C/br%3E%20%20%20%20%20%20%20%20%20%20%20%20%20%20%20%20%20%20%20%20%20%3Cbr%3E%20%3Cb%3EFondos%20acreditados%3A%20%3C/b%3E%201.500.000%2C00%20%3C/br%3E%20%20%20%20%20%20%20%20%20%20%20%20%20%20%20%20%20%20%20%20%20%3C/div%3E%60%29%5B0%5D%3B%0A%20%20%20%20%20%20%20%20%20%20%20%20popup_de14f96543da48be9468b7ebebc3c96d.setContent%28html_a2b7ec87a18e4f8caf1260054e483dec%29%3B%0A%20%20%20%20%20%20%20%20%0A%0A%20%20%20%20%20%20%20%20marker_6f780fe4c22249de8984d1de2c39d53a.bindPopup%28popup_de14f96543da48be9468b7ebebc3c96d%29%0A%20%20%20%20%20%20%20%20%3B%0A%0A%20%20%20%20%20%20%20%20%0A%20%20%20%20%0A%20%20%20%20%0A%20%20%20%20%20%20%20%20%20%20%20%20var%20marker_77b607d1cea74111a0f5741bca0e0e42%20%3D%20L.marker%28%0A%20%20%20%20%20%20%20%20%20%20%20%20%20%20%20%20%5B-34.565277715981885%2C%20-59.1113902670744%5D%2C%0A%20%20%20%20%20%20%20%20%20%20%20%20%20%20%20%20%7B%7D%0A%20%20%20%20%20%20%20%20%20%20%20%20%29.addTo%28map_b178befdf25943f585b78ea3d00b8feb%29%3B%0A%20%20%20%20%20%20%20%20%0A%20%20%20%20%0A%20%20%20%20%20%20%20%20%20%20%20%20var%20icon_d6f1609aebbc4e4496b00f28af2684b7%20%3D%20L.AwesomeMarkers.icon%28%0A%20%20%20%20%20%20%20%20%20%20%20%20%20%20%20%20%7B%22extraClasses%22%3A%20%22fa-rotate-0%22%2C%20%22icon%22%3A%20%22info-sign%22%2C%20%22iconColor%22%3A%20%22white%22%2C%20%22markerColor%22%3A%20%22green%22%2C%20%22prefix%22%3A%20%22glyphicon%22%7D%0A%20%20%20%20%20%20%20%20%20%20%20%20%29%3B%0A%20%20%20%20%20%20%20%20%20%20%20%20marker_77b607d1cea74111a0f5741bca0e0e42.setIcon%28icon_d6f1609aebbc4e4496b00f28af2684b7%29%3B%0A%20%20%20%20%20%20%20%20%0A%20%20%20%20%0A%20%20%20%20%20%20%20%20var%20popup_32596eca8a77425c8a608904be544acd%20%3D%20L.popup%28%7B%22maxWidth%22%3A%20%22100%25%22%7D%29%3B%0A%0A%20%20%20%20%20%20%20%20%0A%20%20%20%20%20%20%20%20%20%20%20%20var%20html_cc01af571af54d5eb235dbc34f34e3b1%20%3D%20%24%28%60%3Cdiv%20id%3D%22html_cc01af571af54d5eb235dbc34f34e3b1%22%20style%3D%22width%3A%20100.0%25%3B%20height%3A%20100.0%25%3B%22%3EMunicipio%20de%20Luj%C3%A1n%3C/div%3E%60%29%5B0%5D%3B%0A%20%20%20%20%20%20%20%20%20%20%20%20popup_32596eca8a77425c8a608904be544acd.setContent%28html_cc01af571af54d5eb235dbc34f34e3b1%29%3B%0A%20%20%20%20%20%20%20%20%0A%0A%20%20%20%20%20%20%20%20marker_77b607d1cea74111a0f5741bca0e0e42.bindPopup%28popup_32596eca8a77425c8a608904be544acd%29%0A%20%20%20%20%20%20%20%20%3B%0A%0A%20%20%20%20%20%20%20%20%0A%20%20%20%20%0A%20%20%20%20%0A%20%20%20%20%20%20%20%20%20%20%20%20var%20marker_1efcfaf7a1d44f32b4c9e93b6fa3b8e1%20%3D%20L.marker%28%0A%20%20%20%20%20%20%20%20%20%20%20%20%20%20%20%20%5B-34.650156368335736%2C%20-58.620362659934955%5D%2C%0A%20%20%20%20%20%20%20%20%20%20%20%20%20%20%20%20%7B%7D%0A%20%20%20%20%20%20%20%20%20%20%20%20%29.addTo%28map_b178befdf25943f585b78ea3d00b8feb%29%3B%0A%20%20%20%20%20%20%20%20%0A%20%20%20%20%0A%20%20%20%20%20%20%20%20var%20popup_f03d801368804f79bc14b5ede49dae51%20%3D%20L.popup%28%7B%22maxWidth%22%3A%20%22100%25%22%7D%29%3B%0A%0A%20%20%20%20%20%20%20%20%0A%20%20%20%20%20%20%20%20%20%20%20%20var%20html_4eff8f0566d5494ca88e5c7c43f787ed%20%3D%20%24%28%60%3Cdiv%20id%3D%22html_4eff8f0566d5494ca88e5c7c43f787ed%22%20style%3D%22width%3A%20100.0%25%3B%20height%3A%20100.0%25%3B%22%3ESuperCanal%20S.A%3C/div%3E%60%29%5B0%5D%3B%0A%20%20%20%20%20%20%20%20%20%20%20%20popup_f03d801368804f79bc14b5ede49dae51.setContent%28html_4eff8f0566d5494ca88e5c7c43f787ed%29%3B%0A%20%20%20%20%20%20%20%20%0A%0A%20%20%20%20%20%20%20%20marker_1efcfaf7a1d44f32b4c9e93b6fa3b8e1.bindPopup%28popup_f03d801368804f79bc14b5ede49dae51%29%0A%20%20%20%20%20%20%20%20%3B%0A%0A%20%20%20%20%20%20%20%20%0A%20%20%20%20%0A%20%20%20%20%0A%20%20%20%20%20%20%20%20%20%20%20%20var%20marker_92dea0c56dd349e0a7ef64741302b81e%20%3D%20L.marker%28%0A%20%20%20%20%20%20%20%20%20%20%20%20%20%20%20%20%5B-27.68217443044872%2C%20-60.91192007208838%5D%2C%0A%20%20%20%20%20%20%20%20%20%20%20%20%20%20%20%20%7B%7D%0A%20%20%20%20%20%20%20%20%20%20%20%20%29.addTo%28map_b178befdf25943f585b78ea3d00b8feb%29%3B%0A%20%20%20%20%20%20%20%20%0A%20%20%20%20%0A%20%20%20%20%20%20%20%20var%20popup_c76f881e3d3142258c10092e716f6554%20%3D%20L.popup%28%7B%22maxWidth%22%3A%20%22100%25%22%7D%29%3B%0A%0A%20%20%20%20%20%20%20%20%0A%20%20%20%20%20%20%20%20%20%20%20%20var%20html_e0fe18fdd29b4ffc89ceff20aac2a97b%20%3D%20%24%28%60%3Cdiv%20id%3D%22html_e0fe18fdd29b4ffc89ceff20aac2a97b%22%20style%3D%22width%3A%20100.0%25%3B%20height%3A%20100.0%25%3B%22%3E%20%20%20%20%20%20%20%20%20%20%20%20%20%20%20%3Ch2%3E%20%3Cb%3E%20Desarrollo%20de%20un%20kit%20para%20la%20automatizaci%C3%B3n%20de%20las%20trampas%20del%20Picudo%20algodonero%20y%20tendido%20de%20redes%20Lorawan%20aplicado%20a%20su%20monitoreo%20y%20control%20en%20cultivos%20de%20algod%C3%B3n%20en%20la%20zona%20de%20S%C3%A1enz%20Pe%C3%B1a%2C%20Chaco%20%3C/b%3E%20%3C/h2%3E%20%20%20%20%20%20%20%20%20%20%20%20%20%20%20%20%20%20%20%20%20%20%3Cbr%3E%20%3Cb%3E%20Resumen%20del%20proyecto%3A%20%3C/b%3E%20-%20%3C/br%3E%20%20%20%20%20%20%20%20%20%20%20%20%20%20%20%20%20%20%20%20%20%20%3Cbr%3E%20%3Cb%3EDirector%3A%20%3C/b%3E%20Gabriel%20Venturino%20%3C/br%3E%20%20%20%20%20%20%20%20%20%20%20%20%20%20%20%20%20%20%20%20%20%3Cbr%3E%20%3Cb%3E%20Contraparte%3A%20%3C/b%3E%20%3Ca%20href%3D%22https%3A//www.facebook.com/CooperativaEitec/%22%3E%20Asociaci%C3%B3n%20Argentina%20de%20Productores%20Algodoneros%20%3C/a%3E%20%3Cbr/%3E%20%20%20%20%20%20%20%20%20%20%20%20%20%20%20%20%20%20%20%20%20%3Cbr%3E%20%3Cb%3EFinanciamiento%3A%3C/b%3E%20Asociaci%C3%B3n%20Argentina%20de%20Productores%20Algodoneros%20%3C/br%3E%20%20%20%20%20%20%20%20%20%20%20%20%20%20%20%20%20%20%20%20%20%3Cbr%3E%20%3Cb%3EUnidad%3A%20%3C/b%3E%20DCAyT%20%3C/br%3E%20%20%20%20%20%20%20%20%20%20%20%20%20%20%20%20%20%20%20%20%20%3Cbr%3E%20%3Cb%3EComienzo%20de%20actividades%3A%20%3C/b%3E%2026/10/2021%20%3C/br%3E%20%20%20%20%20%20%20%20%20%20%20%20%20%20%20%20%20%20%20%20%20%3Cbr%3E%20%3Cb%3EFecha%20de%20finalizaci%C3%B3n%3A%20%3C/b%3E%2025/10/2022%20%3C/br%3E%20%20%20%20%20%20%20%20%20%20%20%20%20%20%20%20%20%20%20%20%20%3Cbr%3E%20%3Cb%3EFondos%20acreditados%3A%20%3C/b%3E%201.500.000%2C00%20%3C/br%3E%20%20%20%20%20%20%20%20%20%20%20%20%20%20%20%20%20%20%20%20%20%3C/div%3E%60%29%5B0%5D%3B%0A%20%20%20%20%20%20%20%20%20%20%20%20popup_c76f881e3d3142258c10092e716f6554.setContent%28html_e0fe18fdd29b4ffc89ceff20aac2a97b%29%3B%0A%20%20%20%20%20%20%20%20%0A%0A%20%20%20%20%20%20%20%20marker_92dea0c56dd349e0a7ef64741302b81e.bindPopup%28popup_c76f881e3d3142258c10092e716f6554%29%0A%20%20%20%20%20%20%20%20%3B%0A%0A%20%20%20%20%20%20%20%20%0A%20%20%20%20%0A%20%20%20%20%0A%20%20%20%20%20%20%20%20%20%20%20%20var%20tile_layer_728c3482fdbf4bfa9f7e83a3a16c8e39%20%3D%20L.tileLayer%28%0A%20%20%20%20%20%20%20%20%20%20%20%20%20%20%20%20%22https%3A//stamen-tiles-%7Bs%7D.a.ssl.fastly.net/toner/%7Bz%7D/%7Bx%7D/%7By%7D.png%22%2C%0A%20%20%20%20%20%20%20%20%20%20%20%20%20%20%20%20%7B%22attribution%22%3A%20%22Map%20tiles%20by%20%5Cu003ca%20href%3D%5C%22http%3A//stamen.com%5C%22%5Cu003eStamen%20Design%5Cu003c/a%5Cu003e%2C%20under%20%5Cu003ca%20href%3D%5C%22http%3A//creativecommons.org/licenses/by/3.0%5C%22%5Cu003eCC%20BY%203.0%5Cu003c/a%5Cu003e.%20Data%20by%20%5Cu0026copy%3B%20%5Cu003ca%20href%3D%5C%22http%3A//openstreetmap.org%5C%22%5Cu003eOpenStreetMap%5Cu003c/a%5Cu003e%2C%20under%20%5Cu003ca%20href%3D%5C%22http%3A//www.openstreetmap.org/copyright%5C%22%5Cu003eODbL%5Cu003c/a%5Cu003e.%22%2C%20%22detectRetina%22%3A%20false%2C%20%22maxNativeZoom%22%3A%2018%2C%20%22maxZoom%22%3A%2018%2C%20%22minZoom%22%3A%200%2C%20%22noWrap%22%3A%20false%2C%20%22opacity%22%3A%201%2C%20%22subdomains%22%3A%20%22abc%22%2C%20%22tms%22%3A%20false%7D%0A%20%20%20%20%20%20%20%20%20%20%20%20%29.addTo%28map_b178befdf25943f585b78ea3d00b8feb%29%3B%0A%20%20%20%20%20%20%20%20%0A%20%20%20%20%0A%20%20%20%20%20%20%20%20%20%20%20%20var%20tile_layer_ac16713d0c5f4e9a846e5eaaa7d2c5ee%20%3D%20L.tileLayer%28%0A%20%20%20%20%20%20%20%20%20%20%20%20%20%20%20%20%22https%3A//stamen-tiles-%7Bs%7D.a.ssl.fastly.net/watercolor/%7Bz%7D/%7Bx%7D/%7By%7D.jpg%22%2C%0A%20%20%20%20%20%20%20%20%20%20%20%20%20%20%20%20%7B%22attribution%22%3A%20%22Map%20tiles%20by%20%5Cu003ca%20href%3D%5C%22http%3A//stamen.com%5C%22%5Cu003eStamen%20Design%5Cu003c/a%5Cu003e%2C%20under%20%5Cu003ca%20href%3D%5C%22http%3A//creativecommons.org/licenses/by/3.0%5C%22%5Cu003eCC%20BY%203.0%5Cu003c/a%5Cu003e.%20Data%20by%20%5Cu0026copy%3B%20%5Cu003ca%20href%3D%5C%22http%3A//openstreetmap.org%5C%22%5Cu003eOpenStreetMap%5Cu003c/a%5Cu003e%2C%20under%20%5Cu003ca%20href%3D%5C%22http%3A//creativecommons.org/licenses/by-sa/3.0%5C%22%5Cu003eCC%20BY%20SA%5Cu003c/a%5Cu003e.%22%2C%20%22detectRetina%22%3A%20false%2C%20%22maxNativeZoom%22%3A%2018%2C%20%22maxZoom%22%3A%2018%2C%20%22minZoom%22%3A%200%2C%20%22noWrap%22%3A%20false%2C%20%22opacity%22%3A%201%2C%20%22subdomains%22%3A%20%22abc%22%2C%20%22tms%22%3A%20false%7D%0A%20%20%20%20%20%20%20%20%20%20%20%20%29.addTo%28map_b178befdf25943f585b78ea3d00b8feb%29%3B%0A%20%20%20%20%20%20%20%20%0A%20%20%20%20%0A%20%20%20%20%20%20%20%20%20%20%20%20var%20tile_layer_175757aaf5cc472ead9995def29ad148%20%3D%20L.tileLayer%28%0A%20%20%20%20%20%20%20%20%20%20%20%20%20%20%20%20%22https%3A//cartodb-basemaps-%7Bs%7D.global.ssl.fastly.net/light_all/%7Bz%7D/%7Bx%7D/%7By%7D.png%22%2C%0A%20%20%20%20%20%20%20%20%20%20%20%20%20%20%20%20%7B%22attribution%22%3A%20%22%5Cu0026copy%3B%20%5Cu003ca%20href%3D%5C%22http%3A//www.openstreetmap.org/copyright%5C%22%5Cu003eOpenStreetMap%5Cu003c/a%5Cu003e%20contributors%20%5Cu0026copy%3B%20%5Cu003ca%20href%3D%5C%22http%3A//cartodb.com/attributions%5C%22%5Cu003eCartoDB%5Cu003c/a%5Cu003e%2C%20CartoDB%20%5Cu003ca%20href%20%3D%5C%22http%3A//cartodb.com/attributions%5C%22%5Cu003eattributions%5Cu003c/a%5Cu003e%22%2C%20%22detectRetina%22%3A%20false%2C%20%22maxNativeZoom%22%3A%2018%2C%20%22maxZoom%22%3A%2018%2C%20%22minZoom%22%3A%200%2C%20%22noWrap%22%3A%20false%2C%20%22opacity%22%3A%201%2C%20%22subdomains%22%3A%20%22abc%22%2C%20%22tms%22%3A%20false%7D%0A%20%20%20%20%20%20%20%20%20%20%20%20%29.addTo%28map_b178befdf25943f585b78ea3d00b8feb%29%3B%0A%20%20%20%20%20%20%20%20%0A%20%20%20%20%0A%20%20%20%20%20%20%20%20%20%20%20%20var%20tile_layer_a01c7a75bdac47c187f186bca5aab07e%20%3D%20L.tileLayer%28%0A%20%20%20%20%20%20%20%20%20%20%20%20%20%20%20%20%22https%3A//%7Bs%7D.tile.openstreetmap.org/%7Bz%7D/%7Bx%7D/%7By%7D.png%22%2C%0A%20%20%20%20%20%20%20%20%20%20%20%20%20%20%20%20%7B%22attribution%22%3A%20%22Data%20by%20%5Cu0026copy%3B%20%5Cu003ca%20href%3D%5C%22http%3A//openstreetmap.org%5C%22%5Cu003eOpenStreetMap%5Cu003c/a%5Cu003e%2C%20under%20%5Cu003ca%20href%3D%5C%22http%3A//www.openstreetmap.org/copyright%5C%22%5Cu003eODbL%5Cu003c/a%5Cu003e.%22%2C%20%22detectRetina%22%3A%20false%2C%20%22maxNativeZoom%22%3A%2018%2C%20%22maxZoom%22%3A%2018%2C%20%22minZoom%22%3A%200%2C%20%22noWrap%22%3A%20false%2C%20%22opacity%22%3A%201%2C%20%22subdomains%22%3A%20%22abc%22%2C%20%22tms%22%3A%20false%7D%0A%20%20%20%20%20%20%20%20%20%20%20%20%29.addTo%28map_b178befdf25943f585b78ea3d00b8feb%29%3B%0A%20%20%20%20%20%20%20%20%0A%20%20%20%20%0A%20%20%20%20%20%20%20%20%20%20%20%20var%20layer_control_f845ce57e2dd4b9892dc27cff947791a%20%3D%20%7B%0A%20%20%20%20%20%20%20%20%20%20%20%20%20%20%20%20base_layers%20%3A%20%7B%0A%20%20%20%20%20%20%20%20%20%20%20%20%20%20%20%20%20%20%20%20%22openstreetmap%22%20%3A%20tile_layer_a01c7a75bdac47c187f186bca5aab07e%2C%0A%20%20%20%20%20%20%20%20%20%20%20%20%20%20%20%20%20%20%20%20%22stamentoner%22%20%3A%20tile_layer_728c3482fdbf4bfa9f7e83a3a16c8e39%2C%0A%20%20%20%20%20%20%20%20%20%20%20%20%20%20%20%20%20%20%20%20%22stamenwatercolor%22%20%3A%20tile_layer_ac16713d0c5f4e9a846e5eaaa7d2c5ee%2C%0A%20%20%20%20%20%20%20%20%20%20%20%20%20%20%20%20%20%20%20%20%22cartodbpositron%22%20%3A%20tile_layer_175757aaf5cc472ead9995def29ad148%2C%0A%20%20%20%20%20%20%20%20%20%20%20%20%20%20%20%20%7D%2C%0A%20%20%20%20%20%20%20%20%20%20%20%20%20%20%20%20overlays%20%3A%20%20%7B%0A%20%20%20%20%20%20%20%20%20%20%20%20%20%20%20%20%7D%2C%0A%20%20%20%20%20%20%20%20%20%20%20%20%7D%3B%0A%20%20%20%20%20%20%20%20%20%20%20%20L.control.layers%28%0A%20%20%20%20%20%20%20%20%20%20%20%20%20%20%20%20layer_control_f845ce57e2dd4b9892dc27cff947791a.base_layers%2C%0A%20%20%20%20%20%20%20%20%20%20%20%20%20%20%20%20layer_control_f845ce57e2dd4b9892dc27cff947791a.overlays%2C%0A%20%20%20%20%20%20%20%20%20%20%20%20%20%20%20%20%7B%22autoZIndex%22%3A%20true%2C%20%22collapsed%22%3A%20true%2C%20%22position%22%3A%20%22topright%22%7D%0A%20%20%20%20%20%20%20%20%20%20%20%20%29.addTo%28map_b178befdf25943f585b78ea3d00b8feb%29%3B%0A%20%20%20%20%20%20%20%20%20%20%20%20tile_layer_728c3482fdbf4bfa9f7e83a3a16c8e39.remove%28%29%3B%0A%20%20%20%20%20%20%20%20%20%20%20%20tile_layer_ac16713d0c5f4e9a846e5eaaa7d2c5ee.remove%28%29%3B%0A%20%20%20%20%20%20%20%20%20%20%20%20tile_layer_175757aaf5cc472ead9995def29ad148.remove%28%29%3B%0A%20%20%20%20%20%20%20%20%20%20%20%20tile_layer_a01c7a75bdac47c187f186bca5aab07e.remove%28%29%3B%0A%20%20%20%20%20%20%20%20%0A%3C/script%3E onload=\"this.contentDocument.open();this.contentDocument.write(    decodeURIComponent(this.getAttribute('data-html')));this.contentDocument.close();\" allowfullscreen webkitallowfullscreen mozallowfullscreen></iframe></div></div>"
      ],
      "text/plain": [
       "<folium.folium.Map at 0x7f2a0f39a0d0>"
      ]
     },
     "execution_count": 7,
     "metadata": {},
     "output_type": "execute_result"
    }
   ],
   "source": [
    "\n",
    "# Crear mapa\n",
    "m_1 = folium.Map(location=[-34.6506,-58.7897], tiles='openstreetmap', zoom_start=12)\n",
    "\n",
    "## agrego marcadores, circulos, etc\n",
    "\n",
    "#folium.Marker(location=[-34.65052914312466, -58.77667018465804],popup=\"Universidad Nacional de Moreno\",icon=folium.Icon(color='blue')).add_to(m_1)\n",
    "#folium.Circle(location=[-34.65052914312466, -58.77667018465804],radius=250,popup=\"UNM\",color=\"#781D42\",fill=True,fill_color=\"#3186cc\",).add_to(m_1)\n",
    "folium.Circle(location=[-34.65052914312466, -58.77667018465804],\n",
    "              radius=250,\n",
    "              popup=folium.Popup(\"\"\"<h3> <a href=\"http://www.unm.edu.ar/\"> Universidad Nacional de Moreno </a> </h3><br/>\n",
    "                     <br/>\n",
    "                    <img src=\"https://www.w3schools.com/html/pic_trulli.jpg\" alt=\"Trulli\" style=\"max-width:100%;max-height:100%\">\"\"\", max_width=300),\n",
    "              color=\"#AE4CCF\",\n",
    "              fill=True,\n",
    "              fill_opacity = 0.6,\n",
    "              fill_color=\"#AE4CCF\").add_to(m_1)\n",
    "\n",
    "folium.Marker(location=[-34.65122568627023, -58.785265671675795],\n",
    "              popup=folium.Popup(\"\"\"\n",
    "              <h2> <b> Internet de las cosas (IoT) aplicado al distanciamiento social. </b> </h2> \n",
    "                    <br> <b> Resumen del proyecto: </b> Desarrollo de un sistema de información que mediante dispositivos de IoT integrados a la gestión de datos permite el monitoreo y alertas, de distanciamiento social en las organizaciones.  </br> \n",
    "                    <br> <b>Director: </b> Gabriel Venturino </br>\n",
    "                    <br> <b> Contraparte: </b> <a href=\"https://efalcom.com/home/\"> eFALCOM S.A </a> <br/>\n",
    "                    <br> <b>Financiamiento:</b> Programa Soluciona. Reactivación de la Economía del Conocimiento. Ministerio de Desarrollo productivo. </br>\n",
    "                    <br> <b>Unidad: </b> DCAyT </br>\n",
    "                    <br> <b>Comienzo de actividades: </b> 30/7/2021 </br>\n",
    "                    <br> <b>Fecha de finalización: </b> 31/3/2022 </br>\n",
    "                    <br> <b>Fondos acreditados: </b> 4.990.154,60 </br>\n",
    "                    \"\"\")).add_to(m_1)\n",
    "\n",
    "\n",
    "\n",
    "folium.Marker(location=[-34.63322998447044, -58.75765492751253],\n",
    "              popup=folium.Popup(\"\"\"\n",
    "              <h2> <b> Internet de las cosas (IoT) aplicado al distanciamiento social. </b> </h2> \n",
    "                    <br> <b> Resumen del proyecto: </b> Desarrollo de un sistema de información que mediante dispositivos de IoT integrados a la gestión de datos permite el monitoreo y alertas, de distanciamiento social en las organizaciones.  </br> \n",
    "                    <br> <b>Director: </b> Gabriel Venturino </br>\n",
    "                    <br> <b> Contraparte: </b> <a href=\"http://www.argenpur.com.ar/\"> Argenpur S.A </a> <br/>\n",
    "                    <br> <b>Financiamiento:</b> Programa Soluciona. Reactivación de la Economía del Conocimiento. Ministerio de Desarrollo productivo. </br>\n",
    "                    <br> <b>Unidad: </b> DCAyT </br>\n",
    "                    <br> <b>Comienzo de actividades: </b> 30/7/2021 </br>\n",
    "                    <br> <b>Fecha de finalización: </b> 31/3/2022 </br>\n",
    "                    <br> <b>Fondos acreditados: </b> 4.990.154,60 </br>\n",
    "                    \"\"\")).add_to(m_1)\n",
    "\n",
    "\n",
    "folium.Marker(location=[-34.65673560168275, -58.76826048516911],\n",
    "              popup=folium.Popup(\"\"\"\n",
    "              <h2> <b> Internet de las cosas (IoT) aplicado al distanciamiento social. </b> </h2> \n",
    "                    <br> <b> Resumen del proyecto: </b> Desarrollo de un sistema de información que mediante dispositivos de IoT integrados a la gestión de datos permite el monitoreo y alertas, de distanciamiento social en las organizaciones.  </br> \n",
    "                    <br> <b>Director: </b> Gabriel Venturino </br>\n",
    "                    <br> <b> Contraparte: </b> <a href=\"https://scaltersrl.com.ar/\">Scalter S.R.L </a> <br/>\n",
    "                    <br> <b>Financiamiento:</b> Programa Soluciona. Reactivación de la Economía del Conocimiento. Ministerio de Desarrollo productivo. </br>\n",
    "                    <br> <b>Unidad: </b> DCAyT </br>\n",
    "                    <br> <b>Comienzo de actividades: </b> 30/7/2021 </br>\n",
    "                    <br> <b>Fecha de finalización: </b> 31/3/2022 </br>\n",
    "                    <br> <b>Fondos acreditados: </b> 4.990.154,60 </br>\n",
    "                    \"\"\")).add_to(m_1)\n",
    "\n",
    "\n",
    "\n",
    "folium.Marker(location=[-34.54570035075286, -58.513172085374926],\n",
    "              popup=folium.Popup(\"\"\"\n",
    "              <h2> <b> Proyecto de servicio de informe ambiental para nuevas tecnologías </b> </h2> \n",
    "                    <br> <b> Resumen del proyecto: </b> -</br> \n",
    "                    <br> <b>Director: </b> Marina Abruzzini </br>\n",
    "                    <br> <b> Contraparte: </b> <a href=\"https://lihue.com.ar/\"> Lihué Ingeniería S.A </a> <br/>\n",
    "                    <br> <b>Financiamiento:</b> Lihué Ingeniería S.A. </br>\n",
    "                    <br> <b>Unidad: </b> DCAyT </br>\n",
    "                    <br> <b>Comienzo de actividades: </b> - </br>\n",
    "                    <br> <b>Fecha de finalización: </b> - </br>\n",
    "                    <br> <b>Fondos acreditados: </b> 40.000,00 </br>\n",
    "                    \"\"\")).add_to(m_1)\n",
    "\n",
    "\n",
    "\n",
    "folium.Marker(location=[-34.59754461260412, -58.37062716613194],\n",
    "              popup=folium.Popup(\"\"\"\n",
    "              <h2> <b> Dictamen técnico de Impacto en la economía real. </b> </h2> \n",
    "                    <br> <b> Resumen del proyecto:</b> Cuenta con compromiso de confidencialidad </br> \n",
    "                    <br> <b>Director: </b> Walter Klein </br>\n",
    "                    <br> <b> Contraparte: </b> <a href=\"https://lihue.com.ar/\"> Generación Mediterranea S.A </a> <br/>\n",
    "                    <br> <b>Financiamiento:</b> Generación Mediterranea S.A. </br>\n",
    "                    <br> <b>Unidad: </b> - </br>\n",
    "                    <br> <b>Comienzo de actividades: </b> 16/5/2021 </br>\n",
    "                    <br> <b>Fecha de finalización: </b> 16/7/2021 </br>\n",
    "                    <br> <b>Fondos acreditados: </b> 2.500.000,00 </br>\n",
    "                    \"\"\")).add_to(m_1)\n",
    "\n",
    "\n",
    "folium.Marker([-34.76790068944727, -58.83849554839575],popup =\"Coop. de trabajo MasterCheese Ltda\",icon=folium.Icon(color='green')).add_to(m_1)\n",
    "\n",
    "\n",
    "folium.Marker(location=[-34.74064737333929, -58.32448233876158],\n",
    "              popup=folium.Popup(\"\"\"\n",
    "              <h2> <b> Estudio y asistencia técnica para el reemplazo del latón de forja por el aluminio  </b> </h2> \n",
    "                    <br> <b> Resumen del proyecto: </b> Consiste en la prueba y ensayos de diferentes aleaciones de aluminio en la búsqueda de optimizar el proceso de fundido, inyección  y mecanizado para la elaboración de válvulas de gas usadas para cocinas, termotanques y estufas, en reemplazo del  latón forjado. Esto permitirá abastecer el mercado interno y de la región.</br> \n",
    "                    <br> <b>Director: </b> Gabriel Venturino </br>\n",
    "                    <br> <b> Contraparte: </b> <a href=\"https://www.facebook.com/CooperativaEitec/\"> Coop. de trabajo EITEC Ltda </a> <br/>\n",
    "                    <br> <b>Financiamiento:</b> Convocatoria 2021 para Emprendedores/as de Base Científica y/o tecnológica en Desarrollos con Impacto Social - Provincia de Buenos Aires. Convocatoria NETS. MINCyT </br>\n",
    "                    <br> <b>Unidad: </b> DCAyT </br>\n",
    "                    <br> <b>Comienzo de actividades: </b> - </br>\n",
    "                    <br> <b>Fecha de finalización: </b> - </br>\n",
    "                    <br> <b>Fondos acreditados: </b> 1.500.000,00 </br>\n",
    "                    \"\"\")).add_to(m_1)\n",
    "\n",
    "\n",
    "\n",
    "folium.Marker(location=[-34.691662819291466, -58.532946731986144],\n",
    "              popup=folium.Popup(\"\"\"\n",
    "              <h2> <b> Co-diseño de componente electrónico para el control de la producción o PLC. </b> </h2> \n",
    "                    <br> <b> Resumen del proyecto: </b> Co-diseño de componente electrónico para el control de la producción o PLC, destinado a una máquina semi automática confeccionadora de bolsas de polietileno.</br> \n",
    "                    <br> <b>Director: </b> Gabriel Venturino </br>\n",
    "                    <br> <b> Contraparte: </b> <a href=\"https://www.facebook.com/CooperativaEitec/\"> Coop. de Trabajo Reciclando Sueños Ltda </a> <br/>\n",
    "                    <br> <b>Financiamiento:</b> Convocatoria Transformación Digital Bonaerense. Ministerio de Producción, Ciencia e Innovación Tecnológica. PBA </br>\n",
    "                    <br> <b>Unidad: </b> DCAyT </br>\n",
    "                    <br> <b>Comienzo de actividades: </b> - </br>\n",
    "                    <br> <b>Fecha de finalización: </b> - </br>\n",
    "                    <br> <b>Fondos acreditados: </b> 1.500.000,00 </br>\n",
    "                    \"\"\")).add_to(m_1)\n",
    "\n",
    "\n",
    "\n",
    "folium.Marker(location=[-34.67752211513004, -58.54196662283064],\n",
    "              popup=folium.Popup(\"\"\"\n",
    "              <h2> <b> La cooperativa de Trabajo Dignidad Laboral Ltda como \"refuncionalizador\" de Residuos de Aparatos Eléctricos y Electrónicos. </b> </h2> \n",
    "                    <br> <b> Resumen del proyecto: </b> - </br> \n",
    "                    <br> <b>Director: </b> Stella Maris Bonaventura </br>\n",
    "                    <br> <b> Contraparte: </b> <a href=\"https://www.facebook.com/CooperativaEitec/\"> Coop. de trabajo Dignidad Laboral Ltda </a> <br/>\n",
    "                    <br> <b>Financiamiento:</b> Convocatoriade Proyectos de Tecnologías para la inclusión social (PTIS) - año 2021, del MINCYT a través del Programa Nacional de Tecnología e Innovación Social, bajo la órbita de la SSPCTI, dependiente del SPPCTEI </br>\n",
    "                    <br> <b>Unidad: </b> DCAyT </br>\n",
    "                    <br> <b>Comienzo de actividades: </b> - </br>\n",
    "                    <br> <b>Fecha de finalización: </b> - </br>\n",
    "                    <br> <b>Fondos acreditados: </b> 1.500.000,00 </br>\n",
    "                    \"\"\")).add_to(m_1)\n",
    "\n",
    "\n",
    "\n",
    "folium.Marker([-34.565277715981885, -59.1113902670744],popup =\"Municipio de Luján\",icon=folium.Icon(color='green')).add_to(m_1)\n",
    "folium.Marker([-34.650156368335736, -58.620362659934955],popup =\"SuperCanal S.A\").add_to(m_1)\n",
    "\n",
    "\n",
    "folium.Marker(location=[-27.68217443044872, -60.91192007208838],\n",
    "              popup=folium.Popup(\"\"\"\n",
    "              <h2> <b> Desarrollo de un kit para la automatización de las trampas del Picudo algodonero y tendido de redes Lorawan aplicado a su monitoreo y control en cultivos de algodón en la zona de Sáenz Peña, Chaco </b> </h2> \n",
    "                    <br> <b> Resumen del proyecto: </b> - </br> \n",
    "                    <br> <b>Director: </b> Gabriel Venturino </br>\n",
    "                    <br> <b> Contraparte: </b> <a href=\"https://www.facebook.com/CooperativaEitec/\"> Asociación Argentina de Productores Algodoneros </a> <br/>\n",
    "                    <br> <b>Financiamiento:</b> Asociación Argentina de Productores Algodoneros </br>\n",
    "                    <br> <b>Unidad: </b> DCAyT </br>\n",
    "                    <br> <b>Comienzo de actividades: </b> 26/10/2021 </br>\n",
    "                    <br> <b>Fecha de finalización: </b> 25/10/2022 </br>\n",
    "                    <br> <b>Fondos acreditados: </b> 1.500.000,00 </br>\n",
    "                    \"\"\")).add_to(m_1)\n",
    "\n",
    "\n",
    "# Add tiles\n",
    "folium.TileLayer('stamentoner').add_to(m_1)\n",
    "folium.TileLayer('stamenwatercolor').add_to(m_1)\n",
    "folium.TileLayer('cartodbpositron').add_to(m_1)\n",
    "folium.TileLayer('openstreetmap').add_to(m_1)\n",
    "\n",
    "##shapesLayer = folium.FeatureGroup(name=\"circles\").add_to(m_1)\n",
    "\n",
    "\n",
    "# Add the option to switch tiles\n",
    "folium.LayerControl().add_to(m_1)\n",
    "\n",
    "\n",
    "# Mostrar el mapa\n",
    "m_1\n",
    "\n",
    "\n"
   ]
  },
  {
   "cell_type": "code",
   "execution_count": 6,
   "id": "bfb84064",
   "metadata": {},
   "outputs": [
    {
     "data": {
      "text/html": [
       "<style>.container { width:100% !important; }</style>"
      ],
      "text/plain": [
       "<IPython.core.display.HTML object>"
      ]
     },
     "metadata": {},
     "output_type": "display_data"
    }
   ],
   "source": [
    "\n",
    "\n",
    "from IPython.core.display import display, HTML\n",
    "display(HTML(\"<style>.container { width:100% !important; }</style>\"))"
   ]
  },
  {
   "cell_type": "code",
   "execution_count": 7,
   "id": "6f7f9c52",
   "metadata": {},
   "outputs": [],
   "source": [
    "#  guardar el mapa como html\n",
    "m_1.save('PuntosVinculacion.html')"
   ]
  },
  {
   "cell_type": "code",
   "execution_count": 8,
   "id": "ca79a03e",
   "metadata": {},
   "outputs": [],
   "source": [
    "# Build App\n",
    "app = JupyterDash(__name__)\n",
    "app.layout =html.Div([\n",
    "    html.H1('Proyectos de Vinculación que involucran a personas del DCAyT'),\n",
    "    html.Iframe(id='map',srcDoc =open('PuntosVinculacion.html', 'r').read(), width='100%',height ='600')\n",
    "    \n",
    "])"
   ]
  },
  {
   "cell_type": "code",
   "execution_count": 8,
   "id": "e5019a15",
   "metadata": {},
   "outputs": [
    {
     "name": "stderr",
     "output_type": "stream",
     "text": [
      "/home/pablo/anaconda3/envs/ProyectosMoreno/lib/python3.9/site-packages/jupyter_dash/jupyter_app.py:139: UserWarning:\n",
      "\n",
      "The 'environ['werkzeug.server.shutdown']' function is deprecated and will be removed in Werkzeug 2.1.\n",
      "\n"
     ]
    },
    {
     "data": {
      "text/html": [
       "\n",
       "        <iframe\n",
       "            width=\"100%\"\n",
       "            height=\"650\"\n",
       "            src=\"http://127.0.0.1:8050/\"\n",
       "            frameborder=\"0\"\n",
       "            allowfullscreen\n",
       "            \n",
       "        ></iframe>\n",
       "        "
      ],
      "text/plain": [
       "<IPython.lib.display.IFrame at 0x7f61b398b5b0>"
      ]
     },
     "metadata": {},
     "output_type": "display_data"
    }
   ],
   "source": [
    "# Run app and display result inline in the notebook\n",
    "app.run_server(mode='inline')"
   ]
  },
  {
   "cell_type": "code",
   "execution_count": null,
   "id": "32ca5030",
   "metadata": {},
   "outputs": [],
   "source": []
  },
  {
   "cell_type": "markdown",
   "id": "65aedbd4",
   "metadata": {},
   "source": [
    "## solución a que la dirección ya esté en uso:"
   ]
  },
  {
   "cell_type": "code",
   "execution_count": null,
   "id": "e8eb8bbe",
   "metadata": {},
   "outputs": [],
   "source": [
    "def run_server(self,\n",
    "               port=8050,\n",
    "               debug=True,\n",
    "               threaded=True,\n",
    "               **flask_run_options):\n",
    "    self.server.run(port=port, debug=debug, **flask_run_options)"
   ]
  },
  {
   "cell_type": "code",
   "execution_count": 9,
   "id": "bd7569e5",
   "metadata": {},
   "outputs": [
    {
     "name": "stdout",
     "output_type": "stream",
     "text": [
      "Dash app running on http://127.0.0.1:3000/\n"
     ]
    }
   ],
   "source": [
    "if __name__ == '__main__':\n",
    "    app.run_server(debug=True, port=3000) # or whatever you choose"
   ]
  },
  {
   "cell_type": "code",
   "execution_count": null,
   "id": "16485304",
   "metadata": {},
   "outputs": [],
   "source": []
  },
  {
   "cell_type": "code",
   "execution_count": null,
   "id": "674be311",
   "metadata": {},
   "outputs": [],
   "source": []
  },
  {
   "cell_type": "code",
   "execution_count": null,
   "id": "3648b354",
   "metadata": {},
   "outputs": [],
   "source": []
  }
 ],
 "metadata": {
  "kernelspec": {
   "display_name": "Python 3 (ipykernel)",
   "language": "python",
   "name": "python3"
  },
  "language_info": {
   "codemirror_mode": {
    "name": "ipython",
    "version": 3
   },
   "file_extension": ".py",
   "mimetype": "text/x-python",
   "name": "python",
   "nbconvert_exporter": "python",
   "pygments_lexer": "ipython3",
   "version": "3.9.7"
  }
 },
 "nbformat": 4,
 "nbformat_minor": 5
}
