{
 "cells": [
  {
   "cell_type": "code",
   "execution_count": 4,
   "id": "5928cdea",
   "metadata": {},
   "outputs": [],
   "source": [
    "import plotly.express as px\n",
    "from jupyter_dash import JupyterDash\n",
    "\n",
    "\n",
    "from dash import dcc\n",
    "from dash import html\n",
    "from dash.dependencies import Input, Output\n"
   ]
  },
  {
   "cell_type": "markdown",
   "id": "4e2c9f8f",
   "metadata": {},
   "source": [
    "## Ejemplo para ver que Dash corra bien bajo Jupyter"
   ]
  },
  {
   "cell_type": "code",
   "execution_count": 5,
   "id": "044559cf",
   "metadata": {},
   "outputs": [],
   "source": [
    "\n",
    "# Load Data\n",
    "df = px.data.tips()\n",
    "# Build App\n",
    "app = JupyterDash(__name__)\n",
    "app.layout = html.Div([\n",
    "    html.H1(\"JupyterDash Demo\"),\n",
    "    dcc.Graph(id='graph'),\n",
    "    html.Label([\n",
    "        \"colorscale\",\n",
    "        dcc.Dropdown(\n",
    "            id='colorscale-dropdown', clearable=False,\n",
    "            value='plasma', options=[\n",
    "                {'label': c, 'value': c}\n",
    "                for c in px.colors.named_colorscales()\n",
    "            ])\n",
    "    ]),\n",
    "])\n",
    "\n",
    "\n",
    "\n",
    "# Define callback to update graph\n",
    "@app.callback(\n",
    "    Output('graph', 'figure'),\n",
    "    [Input(\"colorscale-dropdown\", \"value\")]\n",
    ")\n",
    "def update_figure(colorscale):\n",
    "    return px.scatter(\n",
    "        df, x=\"total_bill\", y=\"tip\", color=\"size\",\n",
    "        color_continuous_scale=colorscale,\n",
    "        render_mode=\"webgl\", title=\"Tips\"\n",
    "    )\n",
    "# Run app and display result inline in the notebook\n",
    "app.run_server(mode='inline')"
   ]
  },
  {
   "cell_type": "markdown",
   "id": "5fe500a2",
   "metadata": {},
   "source": [
    "## Mapas"
   ]
  },
  {
   "cell_type": "code",
   "execution_count": 7,
   "id": "26dbb262",
   "metadata": {},
   "outputs": [],
   "source": [
    "\n",
    "### mapas\n",
    "\n",
    "\n",
    "import folium\n",
    "from folium import Choropleth, Circle, Marker\n",
    "from folium.plugins import HeatMap, MarkerCluster\n",
    "import pandas as pd\n"
   ]
  },
  {
   "cell_type": "code",
   "execution_count": 20,
   "id": "1722f180",
   "metadata": {},
   "outputs": [
    {
     "data": {
      "text/plain": [
       "<folium.map.LayerControl at 0x7fbf4cc15e20>"
      ]
     },
     "execution_count": 20,
     "metadata": {},
     "output_type": "execute_result"
    }
   ],
   "source": [
    "\n",
    "# Crear mapa\n",
    "m_1 = folium.Map(location=[-34.6506,-58.7897], tiles='openstreetmap', zoom_start=12)\n",
    "\n",
    "## agrego marcadores, circulos, etc\n",
    "\n",
    "#folium.Marker(location=[-34.65052914312466, -58.77667018465804],popup=\"Universidad Nacional de Moreno\",icon=folium.Icon(color='blue')).add_to(m_1)\n",
    "#folium.Circle(location=[-34.65052914312466, -58.77667018465804],radius=250,popup=\"UNM\",color=\"#781D42\",fill=True,fill_color=\"#3186cc\",).add_to(m_1)\n",
    "folium.Circle(location=[-34.65052914312466, -58.77667018465804],\n",
    "              radius=250,\n",
    "              popup=folium.Popup(\"\"\"<h3> <a href=\"http://www.unm.edu.ar/\"> Universidad Nacional de Moreno </a> </h3><br/>\n",
    "                     <br/>\n",
    "                    <img src=\"https://www.w3schools.com/html/pic_trulli.jpg\" alt=\"Trulli\" style=\"max-width:100%;max-height:100%\">\"\"\", max_width=300),\n",
    "              color=\"#AE4CCF\",\n",
    "              fill=True,\n",
    "              fill_opacity = 0.6,\n",
    "              fill_color=\"#AE4CCF\").add_to(m_1)\n",
    "\n",
    "folium.Marker(location=[-34.65122568627023, -58.785265671675795],\n",
    "              popup=folium.Popup(\"\"\"\n",
    "              <h2> <b> Internet de las cosas (IoT) aplicado al distanciamiento social. </b> </h2> \n",
    "                    <br> <b> Resumen del proyecto: </b> Desarrollo de un sistema de información que mediante dispositivos de IoT integrados a la gestión de datos permite el monitoreo y alertas, de distanciamiento social en las organizaciones.  </br> \n",
    "                    <br> <b>Director: </b> Gabriel Venturino </br>\n",
    "                    <br> <b> Contraparte: </b> <a href=\"https://efalcom.com/home/\"> eFALCOM S.A </a> <br/>\n",
    "                    <br> <b>Financiamiento:</b> Programa Soluciona. Reactivación de la Economía del Conocimiento. Ministerio de Desarrollo productivo. </br>\n",
    "                    <br> <b>Unidad: </b> DCAyT </br>\n",
    "                    <br> <b>Comienzo de actividades: </b> 30/7/2021 </br>\n",
    "                    <br> <b>Fecha de finalización: </b> 31/3/2022 </br>\n",
    "                    <br> <b>Fondos acreditados: </b> 4.990.154,60 </br>\n",
    "                    \"\"\")).add_to(m_1)\n",
    "\n",
    "\n",
    "\n",
    "folium.Marker(location=[-34.63322998447044, -58.75765492751253],\n",
    "              popup=folium.Popup(\"\"\"\n",
    "              <h2> <b> Internet de las cosas (IoT) aplicado al distanciamiento social. </b> </h2> \n",
    "                    <br> <b> Resumen del proyecto: </b> Desarrollo de un sistema de información que mediante dispositivos de IoT integrados a la gestión de datos permite el monitoreo y alertas, de distanciamiento social en las organizaciones.  </br> \n",
    "                    <br> <b>Director: </b> Gabriel Venturino </br>\n",
    "                    <br> <b> Contraparte: </b> <a href=\"http://www.argenpur.com.ar/\"> Argenpur S.A </a> <br/>\n",
    "                    <br> <b>Financiamiento:</b> Programa Soluciona. Reactivación de la Economía del Conocimiento. Ministerio de Desarrollo productivo. </br>\n",
    "                    <br> <b>Unidad: </b> DCAyT </br>\n",
    "                    <br> <b>Comienzo de actividades: </b> 30/7/2021 </br>\n",
    "                    <br> <b>Fecha de finalización: </b> 31/3/2022 </br>\n",
    "                    <br> <b>Fondos acreditados: </b> 4.990.154,60 </br>\n",
    "                    \"\"\")).add_to(m_1)\n",
    "\n",
    "\n",
    "folium.Marker(location=[-34.65673560168275, -58.76826048516911],\n",
    "              popup=folium.Popup(\"\"\"\n",
    "              <h2> <b> Internet de las cosas (IoT) aplicado al distanciamiento social. </b> </h2> \n",
    "                    <br> <b> Resumen del proyecto: </b> Desarrollo de un sistema de información que mediante dispositivos de IoT integrados a la gestión de datos permite el monitoreo y alertas, de distanciamiento social en las organizaciones.  </br> \n",
    "                    <br> <b>Director: </b> Gabriel Venturino </br>\n",
    "                    <br> <b> Contraparte: </b> <a href=\"https://scaltersrl.com.ar/\">Scalter S.R.L </a> <br/>\n",
    "                    <br> <b>Financiamiento:</b> Programa Soluciona. Reactivación de la Economía del Conocimiento. Ministerio de Desarrollo productivo. </br>\n",
    "                    <br> <b>Unidad: </b> DCAyT </br>\n",
    "                    <br> <b>Comienzo de actividades: </b> 30/7/2021 </br>\n",
    "                    <br> <b>Fecha de finalización: </b> 31/3/2022 </br>\n",
    "                    <br> <b>Fondos acreditados: </b> 4.990.154,60 </br>\n",
    "                    \"\"\")).add_to(m_1)\n",
    "\n",
    "\n",
    "\n",
    "folium.Marker(location=[-34.54570035075286, -58.513172085374926],\n",
    "              popup=folium.Popup(\"\"\"\n",
    "              <h2> <b> Proyecto de servicio de informe ambiental para nuevas tecnologías </b> </h2> \n",
    "                    <br> <b> Resumen del proyecto: </b> -</br> \n",
    "                    <br> <b>Director: </b> Marina Abruzzini </br>\n",
    "                    <br> <b> Contraparte: </b> <a href=\"https://lihue.com.ar/\"> Lihué Ingeniería S.A </a> <br/>\n",
    "                    <br> <b>Financiamiento:</b> Lihué Ingeniería S.A. </br>\n",
    "                    <br> <b>Unidad: </b> DCAyT </br>\n",
    "                    <br> <b>Comienzo de actividades: </b> - </br>\n",
    "                    <br> <b>Fecha de finalización: </b> - </br>\n",
    "                    <br> <b>Fondos acreditados: </b> 40.000,00 </br>\n",
    "                    \"\"\")).add_to(m_1)\n",
    "\n",
    "\n",
    "\n",
    "folium.Marker(location=[-34.59754461260412, -58.37062716613194],\n",
    "              popup=folium.Popup(\"\"\"\n",
    "              <h2> <b> Dictamen técnico de Impacto en la economía real. </b> </h2> \n",
    "                    <br> <b> Resumen del proyecto:</b> Cuenta con compromiso de confidencialidad </br> \n",
    "                    <br> <b>Director: </b> Walter Klein </br>\n",
    "                    <br> <b> Contraparte: </b> <a href=\"https://lihue.com.ar/\"> Generación Mediterranea S.A </a> <br/>\n",
    "                    <br> <b>Financiamiento:</b> Generación Mediterranea S.A. </br>\n",
    "                    <br> <b>Unidad: </b> - </br>\n",
    "                    <br> <b>Comienzo de actividades: </b> 16/5/2021 </br>\n",
    "                    <br> <b>Fecha de finalización: </b> 16/7/2021 </br>\n",
    "                    <br> <b>Fondos acreditados: </b> 2.500.000,00 </br>\n",
    "                    \"\"\")).add_to(m_1)\n",
    "\n",
    "\n",
    "folium.Marker([-34.76790068944727, -58.83849554839575],popup =\"Coop. de trabajo MasterCheese Ltda\",icon=folium.Icon(color='green')).add_to(m_1)\n",
    "\n",
    "\n",
    "folium.Marker(location=[-34.74064737333929, -58.32448233876158],\n",
    "              popup=folium.Popup(\"\"\"\n",
    "              <h2> <b> Estudio y asistencia técnica para el reemplazo del latón de forja por el aluminio  </b> </h2> \n",
    "                    <br> <b> Resumen del proyecto: </b> Consiste en la prueba y ensayos de diferentes aleaciones de aluminio en la búsqueda de optimizar el proceso de fundido, inyección  y mecanizado para la elaboración de válvulas de gas usadas para cocinas, termotanques y estufas, en reemplazo del  latón forjado. Esto permitirá abastecer el mercado interno y de la región.</br> \n",
    "                    <br> <b>Director: </b> Gabriel Venturino </br>\n",
    "                    <br> <b> Contraparte: </b> <a href=\"https://www.facebook.com/CooperativaEitec/\"> Coop. de trabajo EITEC Ltda </a> <br/>\n",
    "                    <br> <b>Financiamiento:</b> Convocatoria 2021 para Emprendedores/as de Base Científica y/o tecnológica en Desarrollos con Impacto Social - Provincia de Buenos Aires. Convocatoria NETS. MINCyT </br>\n",
    "                    <br> <b>Unidad: </b> DCAyT </br>\n",
    "                    <br> <b>Comienzo de actividades: </b> - </br>\n",
    "                    <br> <b>Fecha de finalización: </b> - </br>\n",
    "                    <br> <b>Fondos acreditados: </b> 1.500.000,00 </br>\n",
    "                    \"\"\")).add_to(m_1)\n",
    "\n",
    "\n",
    "\n",
    "folium.Marker(location=[-34.691662819291466, -58.532946731986144],\n",
    "              popup=folium.Popup(\"\"\"\n",
    "              <h2> <b> Co-diseño de componente electrónico para el control de la producción o PLC. </b> </h2> \n",
    "                    <br> <b> Resumen del proyecto: </b> Co-diseño de componente electrónico para el control de la producción o PLC, destinado a una máquina semi automática confeccionadora de bolsas de polietileno.</br> \n",
    "                    <br> <b>Director: </b> Gabriel Venturino </br>\n",
    "                    <br> <b> Contraparte: </b> <a href=\"https://www.facebook.com/CooperativaEitec/\"> Coop. de Trabajo Reciclando Sueños Ltda </a> <br/>\n",
    "                    <br> <b>Financiamiento:</b> Convocatoria Transformación Digital Bonaerense. Ministerio de Producción, Ciencia e Innovación Tecnológica. PBA </br>\n",
    "                    <br> <b>Unidad: </b> DCAyT </br>\n",
    "                    <br> <b>Comienzo de actividades: </b> - </br>\n",
    "                    <br> <b>Fecha de finalización: </b> - </br>\n",
    "                    <br> <b>Fondos acreditados: </b> 1.500.000,00 </br>\n",
    "                    \"\"\")).add_to(m_1)\n",
    "\n",
    "\n",
    "\n",
    "folium.Marker(location=[-34.67752211513004, -58.54196662283064],\n",
    "              popup=folium.Popup(\"\"\"\n",
    "              <h2> <b> La cooperativa de Trabajo Dignidad Laboral Ltda como \"refuncionalizador\" de Residuos de Aparatos Eléctricos y Electrónicos. </b> </h2> \n",
    "                    <br> <b> Resumen del proyecto: </b> - </br> \n",
    "                    <br> <b>Director: </b> Stella Maris Bonaventura </br>\n",
    "                    <br> <b> Contraparte: </b> <a href=\"https://www.facebook.com/CooperativaEitec/\"> Coop. de trabajo Dignidad Laboral Ltda </a> <br/>\n",
    "                    <br> <b>Financiamiento:</b> Convocatoriade Proyectos de Tecnologías para la inclusión social (PTIS) - año 2021, del MINCYT a través del Programa Nacional de Tecnología e Innovación Social, bajo la órbita de la SSPCTI, dependiente del SPPCTEI </br>\n",
    "                    <br> <b>Unidad: </b> DCAyT </br>\n",
    "                    <br> <b>Comienzo de actividades: </b> - </br>\n",
    "                    <br> <b>Fecha de finalización: </b> - </br>\n",
    "                    <br> <b>Fondos acreditados: </b> 1.500.000,00 </br>\n",
    "                    \"\"\")).add_to(m_1)\n",
    "\n",
    "\n",
    "\n",
    "folium.Marker([-34.565277715981885, -59.1113902670744],popup =\"Municipio de Luján\",icon=folium.Icon(color='green')).add_to(m_1)\n",
    "folium.Marker([-34.650156368335736, -58.620362659934955],popup =\"SuperCanal S.A\").add_to(m_1)\n",
    "\n",
    "\n",
    "folium.Marker(location=[-27.68217443044872, -60.91192007208838],\n",
    "              popup=folium.Popup(\"\"\"\n",
    "              <h2> <b> Desarrollo de un kit para la automatización de las trampas del Picudo algodonero y tendido de redes Lorawan aplicado a su monitoreo y control en cultivos de algodón en la zona de Sáenz Peña, Chaco </b> </h2> \n",
    "                    <br> <b> Resumen del proyecto: </b> - </br> \n",
    "                    <br> <b>Director: </b> Gabriel Venturino </br>\n",
    "                    <br> <b> Contraparte: </b> <a href=\"https://www.facebook.com/CooperativaEitec/\"> Asociación Argentina de Productores Algodoneros </a> <br/>\n",
    "                    <br> <b>Financiamiento:</b> Asociación Argentina de Productores Algodoneros </br>\n",
    "                    <br> <b>Unidad: </b> DCAyT </br>\n",
    "                    <br> <b>Comienzo de actividades: </b> 26/10/2021 </br>\n",
    "                    <br> <b>Fecha de finalización: </b> 25/10/2022 </br>\n",
    "                    <br> <b>Fondos acreditados: </b> 1.500.000,00 </br>\n",
    "                    \"\"\")).add_to(m_1)\n",
    "\n",
    "\n",
    "# Add tiles\n",
    "folium.TileLayer('stamentoner').add_to(m_1)\n",
    "folium.TileLayer('stamenwatercolor').add_to(m_1)\n",
    "folium.TileLayer('cartodbpositron').add_to(m_1)\n",
    "folium.TileLayer('openstreetmap').add_to(m_1)\n",
    "\n",
    "##shapesLayer = folium.FeatureGroup(name=\"circles\").add_to(m_1)\n",
    "\n",
    "\n",
    "# Add the option to switch tiles\n",
    "folium.LayerControl().add_to(m_1)\n",
    "\n",
    "\n",
    "# Mostrar el mapa\n",
    "#m_1\n",
    "\n",
    "\n"
   ]
  },
  {
   "cell_type": "code",
   "execution_count": 16,
   "id": "bfb84064",
   "metadata": {},
   "outputs": [
    {
     "data": {
      "text/html": [
       "<style>.container { width:100% !important; }</style>"
      ],
      "text/plain": [
       "<IPython.core.display.HTML object>"
      ]
     },
     "metadata": {},
     "output_type": "display_data"
    }
   ],
   "source": [
    "\n",
    "\n",
    "from IPython.core.display import display, HTML\n",
    "display(HTML(\"<style>.container { width:100% !important; }</style>\"))"
   ]
  },
  {
   "cell_type": "code",
   "execution_count": 17,
   "id": "6f7f9c52",
   "metadata": {},
   "outputs": [],
   "source": [
    "#  guardar el mapa como html\n",
    "m_1.save('PuntosVinculacion.html')"
   ]
  },
  {
   "cell_type": "code",
   "execution_count": 18,
   "id": "ca79a03e",
   "metadata": {},
   "outputs": [],
   "source": [
    "# Build App\n",
    "app = JupyterDash(__name__)\n",
    "app.layout =html.Div([\n",
    "    html.H1('Proyectos de Vinculación que involucran a personas del DCAyT'),\n",
    "    html.Iframe(id='map',srcDoc =open('PuntosVinculacion.html', 'r').read(), width='100%',height ='600')\n",
    "    \n",
    "])"
   ]
  },
  {
   "cell_type": "code",
   "execution_count": 19,
   "id": "e5019a15",
   "metadata": {},
   "outputs": [
    {
     "data": {
      "text/html": [
       "\n",
       "        <iframe\n",
       "            width=\"100%\"\n",
       "            height=\"650\"\n",
       "            src=\"http://127.0.0.1:8050/\"\n",
       "            frameborder=\"0\"\n",
       "            allowfullscreen\n",
       "            \n",
       "        ></iframe>\n",
       "        "
      ],
      "text/plain": [
       "<IPython.lib.display.IFrame at 0x7fbf4cc658b0>"
      ]
     },
     "metadata": {},
     "output_type": "display_data"
    }
   ],
   "source": [
    "# Run app and display result inline in the notebook\n",
    "app.run_server(mode='inline')"
   ]
  },
  {
   "cell_type": "code",
   "execution_count": null,
   "id": "c524fb22",
   "metadata": {},
   "outputs": [],
   "source": []
  },
  {
   "cell_type": "code",
   "execution_count": null,
   "id": "e11a6a34",
   "metadata": {},
   "outputs": [],
   "source": []
  },
  {
   "cell_type": "code",
   "execution_count": null,
   "id": "3648b354",
   "metadata": {},
   "outputs": [],
   "source": []
  }
 ],
 "metadata": {
  "kernelspec": {
   "display_name": "Python 3 (ipykernel)",
   "language": "python",
   "name": "python3"
  },
  "language_info": {
   "codemirror_mode": {
    "name": "ipython",
    "version": 3
   },
   "file_extension": ".py",
   "mimetype": "text/x-python",
   "name": "python",
   "nbconvert_exporter": "python",
   "pygments_lexer": "ipython3",
   "version": "3.9.7"
  }
 },
 "nbformat": 4,
 "nbformat_minor": 5
}
